{
  "nbformat": 4,
  "nbformat_minor": 0,
  "metadata": {
    "colab": {
      "provenance": [],
      "machine_shape": "hm",
      "gpuType": "A100"
    },
    "kernelspec": {
      "name": "python3",
      "display_name": "Python 3"
    },
    "language_info": {
      "name": "python"
    },
    "accelerator": "GPU",
    "widgets": {
      "application/vnd.jupyter.widget-state+json": {
        "f361081ef7f74b6ba8f254d199a83711": {
          "model_module": "@jupyter-widgets/controls",
          "model_name": "HBoxModel",
          "model_module_version": "1.5.0",
          "state": {
            "_dom_classes": [],
            "_model_module": "@jupyter-widgets/controls",
            "_model_module_version": "1.5.0",
            "_model_name": "HBoxModel",
            "_view_count": null,
            "_view_module": "@jupyter-widgets/controls",
            "_view_module_version": "1.5.0",
            "_view_name": "HBoxView",
            "box_style": "",
            "children": [
              "IPY_MODEL_977a35bee49f4ebea1de7bad6925ddb4",
              "IPY_MODEL_a2a7fc04d9384cf6ae0ca7bb6f3a7f96",
              "IPY_MODEL_f0ad05375e9d4dceac6258339400f606"
            ],
            "layout": "IPY_MODEL_4bb1e1ffff22422cb5e675362bb0d51b"
          }
        },
        "977a35bee49f4ebea1de7bad6925ddb4": {
          "model_module": "@jupyter-widgets/controls",
          "model_name": "HTMLModel",
          "model_module_version": "1.5.0",
          "state": {
            "_dom_classes": [],
            "_model_module": "@jupyter-widgets/controls",
            "_model_module_version": "1.5.0",
            "_model_name": "HTMLModel",
            "_view_count": null,
            "_view_module": "@jupyter-widgets/controls",
            "_view_module_version": "1.5.0",
            "_view_name": "HTMLView",
            "description": "",
            "description_tooltip": null,
            "layout": "IPY_MODEL_65881e8b33e8475f88f276f4fdb25ab2",
            "placeholder": "​",
            "style": "IPY_MODEL_167bf6c16a0c42b19a209320c4826e52",
            "value": "Downloading 1 files: 100%"
          }
        },
        "a2a7fc04d9384cf6ae0ca7bb6f3a7f96": {
          "model_module": "@jupyter-widgets/controls",
          "model_name": "FloatProgressModel",
          "model_module_version": "1.5.0",
          "state": {
            "_dom_classes": [],
            "_model_module": "@jupyter-widgets/controls",
            "_model_module_version": "1.5.0",
            "_model_name": "FloatProgressModel",
            "_view_count": null,
            "_view_module": "@jupyter-widgets/controls",
            "_view_module_version": "1.5.0",
            "_view_name": "ProgressView",
            "bar_style": "success",
            "description": "",
            "description_tooltip": null,
            "layout": "IPY_MODEL_0eea0d325fdc46a08536014ab0935206",
            "max": 1,
            "min": 0,
            "orientation": "horizontal",
            "style": "IPY_MODEL_4dbcbfc4515a403183da9eb6af16337a",
            "value": 1
          }
        },
        "f0ad05375e9d4dceac6258339400f606": {
          "model_module": "@jupyter-widgets/controls",
          "model_name": "HTMLModel",
          "model_module_version": "1.5.0",
          "state": {
            "_dom_classes": [],
            "_model_module": "@jupyter-widgets/controls",
            "_model_module_version": "1.5.0",
            "_model_name": "HTMLModel",
            "_view_count": null,
            "_view_module": "@jupyter-widgets/controls",
            "_view_module_version": "1.5.0",
            "_view_name": "HTMLView",
            "description": "",
            "description_tooltip": null,
            "layout": "IPY_MODEL_ca1efb5c57724d97b24cc1c3de2dc4dc",
            "placeholder": "​",
            "style": "IPY_MODEL_16645bf4329a4a1cb8d00bab8bf782c3",
            "value": " 1/1 [00:26&lt;00:00, 26.66s/it]"
          }
        },
        "4bb1e1ffff22422cb5e675362bb0d51b": {
          "model_module": "@jupyter-widgets/base",
          "model_name": "LayoutModel",
          "model_module_version": "1.2.0",
          "state": {
            "_model_module": "@jupyter-widgets/base",
            "_model_module_version": "1.2.0",
            "_model_name": "LayoutModel",
            "_view_count": null,
            "_view_module": "@jupyter-widgets/base",
            "_view_module_version": "1.2.0",
            "_view_name": "LayoutView",
            "align_content": null,
            "align_items": null,
            "align_self": null,
            "border": null,
            "bottom": null,
            "display": null,
            "flex": null,
            "flex_flow": null,
            "grid_area": null,
            "grid_auto_columns": null,
            "grid_auto_flow": null,
            "grid_auto_rows": null,
            "grid_column": null,
            "grid_gap": null,
            "grid_row": null,
            "grid_template_areas": null,
            "grid_template_columns": null,
            "grid_template_rows": null,
            "height": null,
            "justify_content": null,
            "justify_items": null,
            "left": null,
            "margin": null,
            "max_height": null,
            "max_width": null,
            "min_height": null,
            "min_width": null,
            "object_fit": null,
            "object_position": null,
            "order": null,
            "overflow": null,
            "overflow_x": null,
            "overflow_y": null,
            "padding": null,
            "right": null,
            "top": null,
            "visibility": null,
            "width": null
          }
        },
        "65881e8b33e8475f88f276f4fdb25ab2": {
          "model_module": "@jupyter-widgets/base",
          "model_name": "LayoutModel",
          "model_module_version": "1.2.0",
          "state": {
            "_model_module": "@jupyter-widgets/base",
            "_model_module_version": "1.2.0",
            "_model_name": "LayoutModel",
            "_view_count": null,
            "_view_module": "@jupyter-widgets/base",
            "_view_module_version": "1.2.0",
            "_view_name": "LayoutView",
            "align_content": null,
            "align_items": null,
            "align_self": null,
            "border": null,
            "bottom": null,
            "display": null,
            "flex": null,
            "flex_flow": null,
            "grid_area": null,
            "grid_auto_columns": null,
            "grid_auto_flow": null,
            "grid_auto_rows": null,
            "grid_column": null,
            "grid_gap": null,
            "grid_row": null,
            "grid_template_areas": null,
            "grid_template_columns": null,
            "grid_template_rows": null,
            "height": null,
            "justify_content": null,
            "justify_items": null,
            "left": null,
            "margin": null,
            "max_height": null,
            "max_width": null,
            "min_height": null,
            "min_width": null,
            "object_fit": null,
            "object_position": null,
            "order": null,
            "overflow": null,
            "overflow_x": null,
            "overflow_y": null,
            "padding": null,
            "right": null,
            "top": null,
            "visibility": null,
            "width": null
          }
        },
        "167bf6c16a0c42b19a209320c4826e52": {
          "model_module": "@jupyter-widgets/controls",
          "model_name": "DescriptionStyleModel",
          "model_module_version": "1.5.0",
          "state": {
            "_model_module": "@jupyter-widgets/controls",
            "_model_module_version": "1.5.0",
            "_model_name": "DescriptionStyleModel",
            "_view_count": null,
            "_view_module": "@jupyter-widgets/base",
            "_view_module_version": "1.2.0",
            "_view_name": "StyleView",
            "description_width": ""
          }
        },
        "0eea0d325fdc46a08536014ab0935206": {
          "model_module": "@jupyter-widgets/base",
          "model_name": "LayoutModel",
          "model_module_version": "1.2.0",
          "state": {
            "_model_module": "@jupyter-widgets/base",
            "_model_module_version": "1.2.0",
            "_model_name": "LayoutModel",
            "_view_count": null,
            "_view_module": "@jupyter-widgets/base",
            "_view_module_version": "1.2.0",
            "_view_name": "LayoutView",
            "align_content": null,
            "align_items": null,
            "align_self": null,
            "border": null,
            "bottom": null,
            "display": null,
            "flex": null,
            "flex_flow": null,
            "grid_area": null,
            "grid_auto_columns": null,
            "grid_auto_flow": null,
            "grid_auto_rows": null,
            "grid_column": null,
            "grid_gap": null,
            "grid_row": null,
            "grid_template_areas": null,
            "grid_template_columns": null,
            "grid_template_rows": null,
            "height": null,
            "justify_content": null,
            "justify_items": null,
            "left": null,
            "margin": null,
            "max_height": null,
            "max_width": null,
            "min_height": null,
            "min_width": null,
            "object_fit": null,
            "object_position": null,
            "order": null,
            "overflow": null,
            "overflow_x": null,
            "overflow_y": null,
            "padding": null,
            "right": null,
            "top": null,
            "visibility": null,
            "width": null
          }
        },
        "4dbcbfc4515a403183da9eb6af16337a": {
          "model_module": "@jupyter-widgets/controls",
          "model_name": "ProgressStyleModel",
          "model_module_version": "1.5.0",
          "state": {
            "_model_module": "@jupyter-widgets/controls",
            "_model_module_version": "1.5.0",
            "_model_name": "ProgressStyleModel",
            "_view_count": null,
            "_view_module": "@jupyter-widgets/base",
            "_view_module_version": "1.2.0",
            "_view_name": "StyleView",
            "bar_color": null,
            "description_width": ""
          }
        },
        "ca1efb5c57724d97b24cc1c3de2dc4dc": {
          "model_module": "@jupyter-widgets/base",
          "model_name": "LayoutModel",
          "model_module_version": "1.2.0",
          "state": {
            "_model_module": "@jupyter-widgets/base",
            "_model_module_version": "1.2.0",
            "_model_name": "LayoutModel",
            "_view_count": null,
            "_view_module": "@jupyter-widgets/base",
            "_view_module_version": "1.2.0",
            "_view_name": "LayoutView",
            "align_content": null,
            "align_items": null,
            "align_self": null,
            "border": null,
            "bottom": null,
            "display": null,
            "flex": null,
            "flex_flow": null,
            "grid_area": null,
            "grid_auto_columns": null,
            "grid_auto_flow": null,
            "grid_auto_rows": null,
            "grid_column": null,
            "grid_gap": null,
            "grid_row": null,
            "grid_template_areas": null,
            "grid_template_columns": null,
            "grid_template_rows": null,
            "height": null,
            "justify_content": null,
            "justify_items": null,
            "left": null,
            "margin": null,
            "max_height": null,
            "max_width": null,
            "min_height": null,
            "min_width": null,
            "object_fit": null,
            "object_position": null,
            "order": null,
            "overflow": null,
            "overflow_x": null,
            "overflow_y": null,
            "padding": null,
            "right": null,
            "top": null,
            "visibility": null,
            "width": null
          }
        },
        "16645bf4329a4a1cb8d00bab8bf782c3": {
          "model_module": "@jupyter-widgets/controls",
          "model_name": "DescriptionStyleModel",
          "model_module_version": "1.5.0",
          "state": {
            "_model_module": "@jupyter-widgets/controls",
            "_model_module_version": "1.5.0",
            "_model_name": "DescriptionStyleModel",
            "_view_count": null,
            "_view_module": "@jupyter-widgets/base",
            "_view_module_version": "1.2.0",
            "_view_name": "StyleView",
            "description_width": ""
          }
        },
        "87a9575253fd4c4895ac224e542cd09d": {
          "model_module": "@jupyter-widgets/controls",
          "model_name": "HBoxModel",
          "model_module_version": "1.5.0",
          "state": {
            "_dom_classes": [],
            "_model_module": "@jupyter-widgets/controls",
            "_model_module_version": "1.5.0",
            "_model_name": "HBoxModel",
            "_view_count": null,
            "_view_module": "@jupyter-widgets/controls",
            "_view_module_version": "1.5.0",
            "_view_name": "HBoxView",
            "box_style": "",
            "children": [
              "IPY_MODEL_a4417ed387d74f4fb0a210fda090a765",
              "IPY_MODEL_bed5568b061f417e901142fcc9877140",
              "IPY_MODEL_600d9f1ff5ac405abe3ee5772f818b20"
            ],
            "layout": "IPY_MODEL_57dbd62c71eb4de280cb31748dab1c78"
          }
        },
        "a4417ed387d74f4fb0a210fda090a765": {
          "model_module": "@jupyter-widgets/controls",
          "model_name": "HTMLModel",
          "model_module_version": "1.5.0",
          "state": {
            "_dom_classes": [],
            "_model_module": "@jupyter-widgets/controls",
            "_model_module_version": "1.5.0",
            "_model_name": "HTMLModel",
            "_view_count": null,
            "_view_module": "@jupyter-widgets/controls",
            "_view_module_version": "1.5.0",
            "_view_name": "HTMLView",
            "description": "",
            "description_tooltip": null,
            "layout": "IPY_MODEL_ac2d93d1297548c2b813e11cd0558d88",
            "placeholder": "​",
            "style": "IPY_MODEL_ec3b4edec62f4be49871eebf15fd8562",
            "value": "Downloading 1 files: 100%"
          }
        },
        "bed5568b061f417e901142fcc9877140": {
          "model_module": "@jupyter-widgets/controls",
          "model_name": "FloatProgressModel",
          "model_module_version": "1.5.0",
          "state": {
            "_dom_classes": [],
            "_model_module": "@jupyter-widgets/controls",
            "_model_module_version": "1.5.0",
            "_model_name": "FloatProgressModel",
            "_view_count": null,
            "_view_module": "@jupyter-widgets/controls",
            "_view_module_version": "1.5.0",
            "_view_name": "ProgressView",
            "bar_style": "success",
            "description": "",
            "description_tooltip": null,
            "layout": "IPY_MODEL_d37f5b64d72248499f21b6a59a4cc84c",
            "max": 1,
            "min": 0,
            "orientation": "horizontal",
            "style": "IPY_MODEL_97bb078fb0814356872bb906aba793ad",
            "value": 1
          }
        },
        "600d9f1ff5ac405abe3ee5772f818b20": {
          "model_module": "@jupyter-widgets/controls",
          "model_name": "HTMLModel",
          "model_module_version": "1.5.0",
          "state": {
            "_dom_classes": [],
            "_model_module": "@jupyter-widgets/controls",
            "_model_module_version": "1.5.0",
            "_model_name": "HTMLModel",
            "_view_count": null,
            "_view_module": "@jupyter-widgets/controls",
            "_view_module_version": "1.5.0",
            "_view_name": "HTMLView",
            "description": "",
            "description_tooltip": null,
            "layout": "IPY_MODEL_dc64920b5e0e4edbbfed40fafbed994f",
            "placeholder": "​",
            "style": "IPY_MODEL_9a9d8d68422a41be8a4e227af2ccbcac",
            "value": " 1/1 [00:16&lt;00:00, 16.32s/it]"
          }
        },
        "57dbd62c71eb4de280cb31748dab1c78": {
          "model_module": "@jupyter-widgets/base",
          "model_name": "LayoutModel",
          "model_module_version": "1.2.0",
          "state": {
            "_model_module": "@jupyter-widgets/base",
            "_model_module_version": "1.2.0",
            "_model_name": "LayoutModel",
            "_view_count": null,
            "_view_module": "@jupyter-widgets/base",
            "_view_module_version": "1.2.0",
            "_view_name": "LayoutView",
            "align_content": null,
            "align_items": null,
            "align_self": null,
            "border": null,
            "bottom": null,
            "display": null,
            "flex": null,
            "flex_flow": null,
            "grid_area": null,
            "grid_auto_columns": null,
            "grid_auto_flow": null,
            "grid_auto_rows": null,
            "grid_column": null,
            "grid_gap": null,
            "grid_row": null,
            "grid_template_areas": null,
            "grid_template_columns": null,
            "grid_template_rows": null,
            "height": null,
            "justify_content": null,
            "justify_items": null,
            "left": null,
            "margin": null,
            "max_height": null,
            "max_width": null,
            "min_height": null,
            "min_width": null,
            "object_fit": null,
            "object_position": null,
            "order": null,
            "overflow": null,
            "overflow_x": null,
            "overflow_y": null,
            "padding": null,
            "right": null,
            "top": null,
            "visibility": null,
            "width": null
          }
        },
        "ac2d93d1297548c2b813e11cd0558d88": {
          "model_module": "@jupyter-widgets/base",
          "model_name": "LayoutModel",
          "model_module_version": "1.2.0",
          "state": {
            "_model_module": "@jupyter-widgets/base",
            "_model_module_version": "1.2.0",
            "_model_name": "LayoutModel",
            "_view_count": null,
            "_view_module": "@jupyter-widgets/base",
            "_view_module_version": "1.2.0",
            "_view_name": "LayoutView",
            "align_content": null,
            "align_items": null,
            "align_self": null,
            "border": null,
            "bottom": null,
            "display": null,
            "flex": null,
            "flex_flow": null,
            "grid_area": null,
            "grid_auto_columns": null,
            "grid_auto_flow": null,
            "grid_auto_rows": null,
            "grid_column": null,
            "grid_gap": null,
            "grid_row": null,
            "grid_template_areas": null,
            "grid_template_columns": null,
            "grid_template_rows": null,
            "height": null,
            "justify_content": null,
            "justify_items": null,
            "left": null,
            "margin": null,
            "max_height": null,
            "max_width": null,
            "min_height": null,
            "min_width": null,
            "object_fit": null,
            "object_position": null,
            "order": null,
            "overflow": null,
            "overflow_x": null,
            "overflow_y": null,
            "padding": null,
            "right": null,
            "top": null,
            "visibility": null,
            "width": null
          }
        },
        "ec3b4edec62f4be49871eebf15fd8562": {
          "model_module": "@jupyter-widgets/controls",
          "model_name": "DescriptionStyleModel",
          "model_module_version": "1.5.0",
          "state": {
            "_model_module": "@jupyter-widgets/controls",
            "_model_module_version": "1.5.0",
            "_model_name": "DescriptionStyleModel",
            "_view_count": null,
            "_view_module": "@jupyter-widgets/base",
            "_view_module_version": "1.2.0",
            "_view_name": "StyleView",
            "description_width": ""
          }
        },
        "d37f5b64d72248499f21b6a59a4cc84c": {
          "model_module": "@jupyter-widgets/base",
          "model_name": "LayoutModel",
          "model_module_version": "1.2.0",
          "state": {
            "_model_module": "@jupyter-widgets/base",
            "_model_module_version": "1.2.0",
            "_model_name": "LayoutModel",
            "_view_count": null,
            "_view_module": "@jupyter-widgets/base",
            "_view_module_version": "1.2.0",
            "_view_name": "LayoutView",
            "align_content": null,
            "align_items": null,
            "align_self": null,
            "border": null,
            "bottom": null,
            "display": null,
            "flex": null,
            "flex_flow": null,
            "grid_area": null,
            "grid_auto_columns": null,
            "grid_auto_flow": null,
            "grid_auto_rows": null,
            "grid_column": null,
            "grid_gap": null,
            "grid_row": null,
            "grid_template_areas": null,
            "grid_template_columns": null,
            "grid_template_rows": null,
            "height": null,
            "justify_content": null,
            "justify_items": null,
            "left": null,
            "margin": null,
            "max_height": null,
            "max_width": null,
            "min_height": null,
            "min_width": null,
            "object_fit": null,
            "object_position": null,
            "order": null,
            "overflow": null,
            "overflow_x": null,
            "overflow_y": null,
            "padding": null,
            "right": null,
            "top": null,
            "visibility": null,
            "width": null
          }
        },
        "97bb078fb0814356872bb906aba793ad": {
          "model_module": "@jupyter-widgets/controls",
          "model_name": "ProgressStyleModel",
          "model_module_version": "1.5.0",
          "state": {
            "_model_module": "@jupyter-widgets/controls",
            "_model_module_version": "1.5.0",
            "_model_name": "ProgressStyleModel",
            "_view_count": null,
            "_view_module": "@jupyter-widgets/base",
            "_view_module_version": "1.2.0",
            "_view_name": "StyleView",
            "bar_color": null,
            "description_width": ""
          }
        },
        "dc64920b5e0e4edbbfed40fafbed994f": {
          "model_module": "@jupyter-widgets/base",
          "model_name": "LayoutModel",
          "model_module_version": "1.2.0",
          "state": {
            "_model_module": "@jupyter-widgets/base",
            "_model_module_version": "1.2.0",
            "_model_name": "LayoutModel",
            "_view_count": null,
            "_view_module": "@jupyter-widgets/base",
            "_view_module_version": "1.2.0",
            "_view_name": "LayoutView",
            "align_content": null,
            "align_items": null,
            "align_self": null,
            "border": null,
            "bottom": null,
            "display": null,
            "flex": null,
            "flex_flow": null,
            "grid_area": null,
            "grid_auto_columns": null,
            "grid_auto_flow": null,
            "grid_auto_rows": null,
            "grid_column": null,
            "grid_gap": null,
            "grid_row": null,
            "grid_template_areas": null,
            "grid_template_columns": null,
            "grid_template_rows": null,
            "height": null,
            "justify_content": null,
            "justify_items": null,
            "left": null,
            "margin": null,
            "max_height": null,
            "max_width": null,
            "min_height": null,
            "min_width": null,
            "object_fit": null,
            "object_position": null,
            "order": null,
            "overflow": null,
            "overflow_x": null,
            "overflow_y": null,
            "padding": null,
            "right": null,
            "top": null,
            "visibility": null,
            "width": null
          }
        },
        "9a9d8d68422a41be8a4e227af2ccbcac": {
          "model_module": "@jupyter-widgets/controls",
          "model_name": "DescriptionStyleModel",
          "model_module_version": "1.5.0",
          "state": {
            "_model_module": "@jupyter-widgets/controls",
            "_model_module_version": "1.5.0",
            "_model_name": "DescriptionStyleModel",
            "_view_count": null,
            "_view_module": "@jupyter-widgets/base",
            "_view_module_version": "1.2.0",
            "_view_name": "StyleView",
            "description_width": ""
          }
        }
      }
    }
  },
  "cells": [
    {
      "cell_type": "markdown",
      "source": [
        "## Imports"
      ],
      "metadata": {
        "id": "l1uD6KnFDnlZ"
      }
    },
    {
      "cell_type": "code",
      "execution_count": 1,
      "metadata": {
        "id": "vBXaRXAWDfKr"
      },
      "outputs": [],
      "source": [
        "import pandas as pd\n",
        "import numpy as np\n",
        "import matplotlib\n",
        "import matplotlib.pyplot as plt\n",
        "import matplotlib.image as mpimg\n",
        "import seaborn as sns\n",
        "\n",
        "import os\n",
        "import joblib\n",
        "\n",
        "import tensorflow as tf\n",
        "import re\n",
        "import random\n",
        "import tf_keras\n",
        "from tf_keras.callbacks import EarlyStopping  # Use tf.keras.callbacks\n",
        "import kagglehub\n",
        "import zipfile\n",
        "import shutil"
      ]
    },
    {
      "cell_type": "markdown",
      "source": [
        "## Downloading the Data"
      ],
      "metadata": {
        "id": "j8XV-9L6Dq32"
      }
    },
    {
      "cell_type": "code",
      "source": [
        "def download_and_extract_data(filename=\"output_latest\", filename_output=\"output\"):\n",
        "    \"\"\"\n",
        "    Downloads, extracts, and deletes a zip file if it doesn't already exist.\n",
        "\n",
        "    Args:\n",
        "        filename: The name of the zip file to download.\n",
        "        filename_output: The name of the folder to extract the contents to.\n",
        "    \"\"\"\n",
        "    if not os.path.exists(filename_output):\n",
        "        try:\n",
        "            # Download the .zip file\n",
        "            print(f\"Downloading '{filename}'...\")\n",
        "            # Get the actual downloaded file path\n",
        "            downloaded_file_path = kagglehub.dataset_download(\"sulimantadros/trend-identification-dataset\")\n",
        "\n",
        "            # Rename if necessary (if kagglehub returns a different name)\n",
        "            if downloaded_file_path != filename:\n",
        "                os.rename(downloaded_file_path, filename)\n",
        "                print(f\"Renamed downloaded file to '{filename}'\")\n",
        "\n",
        "        except Exception as e:\n",
        "            print(f\"An error occurred: {e}\")\n",
        "    else:\n",
        "        print(f\"File '{filename_output}' already exists. Skipping download and extraction.\")\n",
        "\n",
        "download_and_extract_data(filename=\"output_latest.zip\", filename_output=\"output\")"
      ],
      "metadata": {
        "colab": {
          "base_uri": "https://localhost:8080/"
        },
        "id": "cgrXzxaoDsto",
        "outputId": "4f6bf9f8-3882-47d5-e38c-e33bf8b284d5"
      },
      "execution_count": 2,
      "outputs": [
        {
          "output_type": "stream",
          "name": "stdout",
          "text": [
            "Downloading 'output_latest.zip'...\n",
            "Downloading from https://www.kaggle.com/api/v1/datasets/download/sulimantadros/trend-identification-dataset?dataset_version_number=1...\n"
          ]
        },
        {
          "output_type": "stream",
          "name": "stderr",
          "text": [
            "100%|██████████| 37.9M/37.9M [00:00<00:00, 125MB/s]"
          ]
        },
        {
          "output_type": "stream",
          "name": "stdout",
          "text": [
            "Extracting files...\n"
          ]
        },
        {
          "output_type": "stream",
          "name": "stderr",
          "text": [
            "\n"
          ]
        },
        {
          "output_type": "stream",
          "name": "stdout",
          "text": [
            "Renamed downloaded file to 'output_latest.zip'\n"
          ]
        }
      ]
    },
    {
      "cell_type": "markdown",
      "source": [
        "## Exploring the data"
      ],
      "metadata": {
        "id": "fnJcSor_EHg7"
      }
    },
    {
      "cell_type": "code",
      "source": [
        "import os\n",
        "\n",
        "def get_image_paths():\n",
        "  # Define the folder paths\n",
        "  train_folder_bullish = '/content/output_latest.zip/output/train/bullish'\n",
        "  train_folder_bearish = '/content/output_latest.zip/output/train/bearish'\n",
        "  train_folder_sideways = '/content/output_latest.zip/output/train/sideways'\n",
        "  test_folder_bullish = '/content/output_latest.zip/output/test/bullish'\n",
        "  test_folder_bearish = '/content/output_latest.zip/output/test/bearish'\n",
        "  test_folder_sideways = '/content/output_latest.zip/output/test/sideways'\n",
        "\n",
        "  # Create a dictionary to store the file paths for each folder\n",
        "  file_paths = {\n",
        "      'train_bullish': [],\n",
        "      'train_bearish': [],\n",
        "      'train_sideways': [],\n",
        "      'test_bullish': [],\n",
        "      'test_bearish': [],\n",
        "      'test_sideways': []\n",
        "  }\n",
        "\n",
        "  # Function to populate file paths for a given folder and key\n",
        "  def populate_file_paths(folder_path, key):\n",
        "      for file in os.listdir(folder_path):\n",
        "          file_paths[key].append(os.path.join(folder_path, file))\n",
        "\n",
        "  # Populate file paths for each folder\n",
        "  populate_file_paths(train_folder_bullish, 'train_bullish')\n",
        "  populate_file_paths(train_folder_bearish, 'train_bearish')\n",
        "  populate_file_paths(train_folder_sideways, 'train_sideways')\n",
        "  populate_file_paths(test_folder_bullish, 'test_bullish')\n",
        "  populate_file_paths(test_folder_bearish, 'test_bearish')\n",
        "  populate_file_paths(test_folder_sideways, 'test_sideways')\n",
        "\n",
        "  # Access the file paths using the dictionary keys\n",
        "  print(f\"Train bullish file paths: {file_paths['train_bullish'][:5]}\")\n",
        "  print(f\"Train bearish file paths: {file_paths['train_bearish'][:5]}\")\n",
        "  print(f\"Train sideways file paths: {file_paths['train_sideways'][:5]}\")\n",
        "  print(f\"Test bullish file paths: {file_paths['test_bullish'][:5]}\")\n",
        "  print(f\"Test bearish file paths: {file_paths['test_bearish'][:5]}\")\n",
        "  print(f\"Test sideways file paths: {file_paths['test_sideways'][:5]}\")\n",
        "\n",
        "  return file_paths\n"
      ],
      "metadata": {
        "id": "qu2lHeDJD79K"
      },
      "execution_count": 3,
      "outputs": []
    },
    {
      "cell_type": "code",
      "source": [
        "file_paths = get_image_paths()"
      ],
      "metadata": {
        "colab": {
          "base_uri": "https://localhost:8080/"
        },
        "id": "kJtRRyXEENYm",
        "outputId": "b4a31b7c-0126-453b-e114-5995b5e56bb5"
      },
      "execution_count": 4,
      "outputs": [
        {
          "output_type": "stream",
          "name": "stdout",
          "text": [
            "Train bullish file paths: ['/content/output_latest.zip/output/train/bullish/NZDUSD_202104050826.png', '/content/output_latest.zip/output/train/bullish/GBPUSD_202404230758.png', '/content/output_latest.zip/output/train/bullish/NZDUSD_202112210826.png', '/content/output_latest.zip/output/train/bullish/GBPUSD_202006300758.png', '/content/output_latest.zip/output/train/bullish/USDCAD_202111252019.png']\n",
            "Train bearish file paths: ['/content/output_latest.zip/output/train/bearish/USDJPY_202301021952.png', '/content/output_latest.zip/output/train/bearish/EURUSD_202309270746.png', '/content/output_latest.zip/output/train/bearish/AUDUSD_202411052012.png', '/content/output_latest.zip/output/train/bearish/USDCAD_202210170819.png', '/content/output_latest.zip/output/train/bearish/NZDUSD_202101080826.png']\n",
            "Train sideways file paths: ['/content/output_latest.zip/output/train/sideways/USDJPY_202101261952.png', '/content/output_latest.zip/output/train/sideways/EURUSD_202203160746.png', '/content/output_latest.zip/output/train/sideways/USDCAD_202005052019.png', '/content/output_latest.zip/output/train/sideways/USDCAD_202012232019.png', '/content/output_latest.zip/output/train/sideways/USDJPY_202402290752.png']\n",
            "Test bullish file paths: ['/content/output_latest.zip/output/test/bullish/NZDUSD_202102050826.png', '/content/output_latest.zip/output/test/bullish/USDCAD_202307140819.png', '/content/output_latest.zip/output/test/bullish/AUDUSD_202105252012.png', '/content/output_latest.zip/output/test/bullish/USDCHF_202305180804.png', '/content/output_latest.zip/output/test/bullish/AUDUSD_202203152012.png']\n",
            "Test bearish file paths: ['/content/output_latest.zip/output/test/bearish/NZDUSD_202004202026.png', '/content/output_latest.zip/output/test/bearish/AUDUSD_202207200812.png', '/content/output_latest.zip/output/test/bearish/EURUSD_202208150746.png', '/content/output_latest.zip/output/test/bearish/USDCAD_202102190819.png', '/content/output_latest.zip/output/test/bearish/USDCHF_202302130804.png']\n",
            "Test sideways file paths: ['/content/output_latest.zip/output/test/sideways/GBPUSD_202407221958.png', '/content/output_latest.zip/output/test/sideways/USDCAD_202201112019.png', '/content/output_latest.zip/output/test/sideways/AUDUSD_202102032012.png', '/content/output_latest.zip/output/test/sideways/AUDUSD_202101200812.png', '/content/output_latest.zip/output/test/sideways/NZDUSD_202203030826.png']\n"
          ]
        }
      ]
    },
    {
      "cell_type": "code",
      "source": [
        "def show_random_image(folder_key=None, file_path=None):\n",
        "    \"\"\"\n",
        "    Displays an image from a specific file path, or a random image from the specified folder key.\n",
        "    If folder_key is None, a random folder key is chosen. If file_path is provided, it overrides\n",
        "    folder_key and directly visualizes the specified image.\n",
        "\n",
        "    Args:\n",
        "        folder_key: The key of the folder to get the image from\n",
        "                    (e.g., 'train_bullish', 'test_sideways').\n",
        "                    If None, a random folder key is chosen.\n",
        "        file_path: The full file path to an image. If provided, this overrides folder_key.\n",
        "\n",
        "    Returns:\n",
        "        The path of the displayed image.\n",
        "    \"\"\"\n",
        "    # List of all possible folder keys\n",
        "    possible_folder_keys = [\n",
        "        'train_bullish', 'train_bearish', 'train_sideways',\n",
        "        'test_bullish', 'test_bearish', 'test_sideways'\n",
        "    ]\n",
        "\n",
        "    # If a file path is provided, display that image\n",
        "    if file_path:\n",
        "        if os.path.exists(file_path):\n",
        "            print(f\"Displaying image from specified file path: {file_path}\")\n",
        "            plt.figure(figsize=(5, 5))\n",
        "            img = mpimg.imread(file_path)\n",
        "            plt.imshow(img)\n",
        "            plt.title(\"Specified Image\")\n",
        "            plt.axis('off')\n",
        "            plt.show()\n",
        "            return file_path\n",
        "        else:\n",
        "            print(f\"File path does not exist: {file_path}\")\n",
        "            return None\n",
        "\n",
        "    # Choose a random folder key if not provided\n",
        "    if folder_key is None:\n",
        "        folder_key = random.choice(possible_folder_keys)\n",
        "        print(f\"No folder key provided. Randomly selected folder key: {folder_key}\")\n",
        "\n",
        "    # Check if the folder key is valid\n",
        "    if folder_key not in file_paths:\n",
        "        print(f\"Invalid folder key: {folder_key}\")\n",
        "        return None\n",
        "\n",
        "    # Check if there are images in the selected folder\n",
        "    if not file_paths[folder_key]:\n",
        "        print(f\"No images found in folder key: {folder_key}\")\n",
        "        return None\n",
        "\n",
        "    # Choose a random image from the specified folder\n",
        "    image_path = random.choice(file_paths[folder_key])\n",
        "\n",
        "    # Display the image\n",
        "    plt.figure(figsize=(5, 5))\n",
        "    img = mpimg.imread(image_path)\n",
        "    plt.imshow(img)\n",
        "    plt.title(f\"Random Image from {folder_key}\")\n",
        "    plt.axis('off')\n",
        "    plt.show()\n",
        "\n",
        "    return image_path"
      ],
      "metadata": {
        "id": "vgArYLfaEPWk"
      },
      "execution_count": 5,
      "outputs": []
    },
    {
      "cell_type": "code",
      "source": [
        "show_random_image(file_path='/content/output_latest.zip/output/train/bullish/NZDUSD_202104050826.png')"
      ],
      "metadata": {
        "colab": {
          "base_uri": "https://localhost:8080/",
          "height": 384
        },
        "id": "gt8CY4seGKEz",
        "outputId": "04d9d08d-d73f-4b25-b64f-55c3bbbbd040"
      },
      "execution_count": 6,
      "outputs": [
        {
          "output_type": "stream",
          "name": "stdout",
          "text": [
            "Displaying image from specified file path: /content/output_latest.zip/output/train/bullish/NZDUSD_202104050826.png\n"
          ]
        },
        {
          "output_type": "display_data",
          "data": {
            "text/plain": [
              "<Figure size 500x500 with 1 Axes>"
            ],
            "image/png": "[encoded data removed]"
          },
          "metadata": {}
        },
        {
          "output_type": "execute_result",
          "data": {
            "text/plain": [
              "'/content/output_latest.zip/output/train/bullish/NZDUSD_202104050826.png'"
            ],
            "application/vnd.google.colaboratory.intrinsic+json": {
              "type": "string"
            }
          },
          "metadata": {},
          "execution_count": 6
        }
      ]
    },
    {
      "cell_type": "markdown",
      "source": [
        "## Manipulating the data (Getting it ready for a machine learning model)"
      ],
      "metadata": {
        "id": "zKlvkrxwIFkh"
      }
    },
    {
      "cell_type": "code",
      "source": [
        "# Constants\n",
        "IMG_SIZE = (224, 224)\n",
        "BATCH_SIZE = 32\n",
        "SEED = 42\n",
        "\n",
        "# Directories\n",
        "original_train_dir = '/content/output_latest.zip/output/train'\n",
        "original_test_dir = '/content/output_latest.zip/output/test'\n",
        "balanced_train_dir = \"balanced_train_dir\"\n",
        "balanced_test_dir = \"balanced_test_dir\"\n",
        "\n",
        "# Helper function to balance classes\n",
        "def balance_classes(original_dir, balanced_dir):\n",
        "    # Get class distributions\n",
        "    class_counts = {cls: len(os.listdir(os.path.join(original_dir, cls))) for cls in os.listdir(original_dir)}\n",
        "    print(f\"Class distribution in {original_dir}: {class_counts}\")\n",
        "\n",
        "    # Find the minimum number of samples (for the minority class)\n",
        "    min_samples = min(class_counts.values())\n",
        "\n",
        "    # Create balanced directory\n",
        "    if not os.path.exists(balanced_dir):\n",
        "        os.makedirs(balanced_dir)\n",
        "\n",
        "    for cls in os.listdir(original_dir):\n",
        "        class_dir = os.path.join(original_dir, cls)\n",
        "        balanced_class_dir = os.path.join(balanced_dir, cls)\n",
        "\n",
        "        if not os.path.exists(balanced_class_dir):\n",
        "            os.makedirs(balanced_class_dir)\n",
        "\n",
        "        # Get all image file paths\n",
        "        all_images = os.listdir(class_dir)\n",
        "        random.shuffle(all_images)\n",
        "\n",
        "        # Copy only min_samples images to the balanced directory\n",
        "        for img in all_images[:min_samples]:\n",
        "            shutil.copy(os.path.join(class_dir, img), os.path.join(balanced_class_dir, img))\n",
        "\n",
        "# Balance training and test datasets\n",
        "balance_classes(original_train_dir, balanced_train_dir)\n",
        "balance_classes(original_test_dir, balanced_test_dir)\n",
        "\n",
        "# Create balanced train dataset\n",
        "train_ds = tf_keras.utils.image_dataset_from_directory(\n",
        "    directory=balanced_train_dir,\n",
        "    label_mode=\"categorical\",\n",
        "    batch_size=BATCH_SIZE,\n",
        "    image_size=IMG_SIZE,\n",
        "    shuffle=True,\n",
        "    seed=SEED\n",
        ")\n",
        "\n",
        "# Create balanced test dataset\n",
        "test_ds = tf_keras.utils.image_dataset_from_directory(\n",
        "    directory=balanced_test_dir,\n",
        "    label_mode=\"categorical\",\n",
        "    batch_size=BATCH_SIZE,\n",
        "    image_size=IMG_SIZE,\n",
        "    shuffle=False,\n",
        "    seed=SEED\n",
        ")\n",
        "\n",
        "print(\"Balanced datasets created successfully!\")"
      ],
      "metadata": {
        "colab": {
          "base_uri": "https://localhost:8080/"
        },
        "id": "U2qyTqY8GZl1",
        "outputId": "8a48b533-5637-4c38-e6a3-1ad54f3b5bbf"
      },
      "execution_count": 7,
      "outputs": [
        {
          "output_type": "stream",
          "name": "stdout",
          "text": [
            "Class distribution in /content/output_latest.zip/output/train: {'bearish': 1074, 'sideways': 10809, 'bullish': 1080}\n",
            "Class distribution in /content/output_latest.zip/output/test: {'bearish': 284, 'sideways': 2815, 'bullish': 260}\n",
            "Found 3222 files belonging to 3 classes.\n",
            "Found 780 files belonging to 3 classes.\n",
            "Balanced datasets created successfully!\n"
          ]
        }
      ]
    },
    {
      "cell_type": "code",
      "source": [
        "len(train_ds), len(test_ds)"
      ],
      "metadata": {
        "colab": {
          "base_uri": "https://localhost:8080/"
        },
        "id": "MYGctuT4ITVI",
        "outputId": "0654d318-2414-4b0d-b355-c5f8d5bb9f8a"
      },
      "execution_count": 8,
      "outputs": [
        {
          "output_type": "execute_result",
          "data": {
            "text/plain": [
              "(101, 25)"
            ]
          },
          "metadata": {},
          "execution_count": 8
        }
      ]
    },
    {
      "cell_type": "code",
      "source": [
        "class_names = train_ds.class_names\n",
        "class_names"
      ],
      "metadata": {
        "colab": {
          "base_uri": "https://localhost:8080/"
        },
        "id": "Hp3GUs8xIxqQ",
        "outputId": "2a3af238-db2b-4028-9de2-bf8cf72ebce9"
      },
      "execution_count": 9,
      "outputs": [
        {
          "output_type": "execute_result",
          "data": {
            "text/plain": [
              "['bearish', 'bullish', 'sideways']"
            ]
          },
          "metadata": {},
          "execution_count": 9
        }
      ]
    },
    {
      "cell_type": "code",
      "source": [
        "# Create multiple subplots\n",
        "fig, axes = plt.subplots(nrows=2, ncols=5, figsize=(20, 10))\n",
        "\n",
        "# Iterate through a single batch and plot images\n",
        "for images, labels in train_ds.take(count=1):\n",
        "  for i, ax in enumerate(axes.flat):\n",
        "    ax.imshow(images[i].numpy().astype(\"uint8\"))\n",
        "\n",
        "    # Get the label for the current image\n",
        "    label = labels[i].numpy()\n",
        "    label_str = class_names[np.argmax(label)]\n",
        "\n",
        "    ax.set_title(label_str)\n",
        "    ax.axis(\"off\")\n",
        "\n",
        "plt.show()"
      ],
      "metadata": {
        "colab": {
          "base_uri": "https://localhost:8080/",
          "height": 548
        },
        "id": "abAiMzcmIZkd",
        "outputId": "7d41a05e-f8ef-4de0-aaa4-5aa9d8028df1"
      },
      "execution_count": 10,
      "outputs": [
        {
          "output_type": "display_data",
          "data": {
            "text/plain": [
              "<Figure size 2000x1000 with 10 Axes>"
            ],
            "image/png": "[encoded data removed]"
          },
          "metadata": {}
        }
      ]
    },
    {
      "cell_type": "code",
      "source": [
        "AUTOTUNE = tf.data.AUTOTUNE # let TensorFlow find the best values to use automatically\n",
        "\n",
        "# Shuffle and optimize performance on training datasets\n",
        "# Note: these methods can be chained together and will have the same effect as calling them individually\n",
        "train_ds = train_ds.cache().shuffle(buffer_size=100*BATCH_SIZE).prefetch(buffer_size=AUTOTUNE)\n",
        "\n",
        "# Don't need to shuffle test datasets (for easier evaluation)\n",
        "test_ds = test_ds.cache().prefetch(buffer_size=AUTOTUNE)"
      ],
      "metadata": {
        "id": "gkdpE0mPIrY4"
      },
      "execution_count": 11,
      "outputs": []
    },
    {
      "cell_type": "markdown",
      "source": [
        "## Building a machine learning model"
      ],
      "metadata": {
        "id": "SZI0YNIoJ8Ez"
      }
    },
    {
      "cell_type": "code",
      "source": [
        "def count_parameters(model, print_output=True):\n",
        "  \"\"\"\n",
        "  Counts the number of trainable, non-trainable and total parameters of a given model.\n",
        "  \"\"\"\n",
        "  trainable_parameters = np.sum([np.prod(layer.shape) for layer in model.trainable_weights])\n",
        "  non_trainable_parameters = np.sum([np.prod(layer.shape) for layer in model.non_trainable_weights])\n",
        "  total_parameters = trainable_parameters + non_trainable_parameters\n",
        "  if print_output:\n",
        "    print(f\"Model {model.name} parameter counts:\")\n",
        "    print(f\"Total parameters: {total_parameters}\")\n",
        "    print(f\"Trainable parameters: {trainable_parameters}\")\n",
        "    print(f\"Non-trainable parameters: {non_trainable_parameters}\")\n",
        "  else:\n",
        "    return total_parameters, trainable_parameters, non_trainable_parameters"
      ],
      "metadata": {
        "id": "AWidEumgJ5Px"
      },
      "execution_count": 12,
      "outputs": []
    },
    {
      "cell_type": "code",
      "source": [
        "def create_model(include_top: bool = False,\n",
        "                 num_classes: int = 1000,\n",
        "                 input_shape: tuple[int, int, int] = (224, 224, 3),\n",
        "                 include_preprocessing: bool = True,\n",
        "                 trainable: bool = False,\n",
        "                 dropout: float = 0.2,\n",
        "                 activation: str = \"softmax\",\n",
        "                 model_name: str = \"model\") -> tf_keras.Model:\n",
        "  \"\"\"\n",
        "  Create an EfficientNetV2 B0 feature extractor model with a custom classifier layer.\n",
        "\n",
        "  Args:\n",
        "      include_top (bool, optional): Whether to include the top (classifier) layers of the model.\n",
        "      num_classes (int, optional): Number of output classes for the classifier layer.\n",
        "      input_shape (tuple[int, int, int], optional): Input shape for the model's images (height, width, channels).\n",
        "      include_preprocessing (bool, optional): Whether to include preprocessing layers for image normalization.\n",
        "      trainable (bool, optional): Whether to make the base model trainable.\n",
        "      dropout (float, optional): Dropout rate for the global average pooling layer.\n",
        "      activation (str, optional): Activation function for the output layer.\n",
        "      model_name (str, optional): Name for the created model.\n",
        "\n",
        "  Returns:\n",
        "      tf.keras.Model: A TensorFlow Keras model with the specified configuration.\n",
        "  \"\"\"\n",
        "  # Create base model\n",
        "  base_model = tf_keras.applications.ConvNeXtXLarge(\n",
        "      include_top=include_top,\n",
        "      weights=\"imagenet\",\n",
        "      input_shape=input_shape,\n",
        "      include_preprocessing=include_preprocessing,\n",
        "      pooling=\"max\"  # Can use this instead of adding tf.keras.layers.MaxPooling2D() to the model\n",
        "  )\n",
        "\n",
        "  if activation == \"softmax\":\n",
        "    activation = tf_keras.activations.softmax\n",
        "  elif activation == \"sigmoid\":\n",
        "    activation = tf_keras.activations.sigmoid\n",
        "\n",
        "  # Freeze the base model (if necessary)\n",
        "  base_model.trainable = trainable\n",
        "\n",
        "  # Create input layer\n",
        "  inputs = tf_keras.Input(shape=input_shape, name=\"input_layer\")\n",
        "\n",
        "  # Create model backbone (middle/hidden layers)\n",
        "  x = base_model(inputs, training=trainable)\n",
        "\n",
        "  # Create output layer (also known as \"classifier\" layer)\n",
        "  outputs = tf_keras.layers.Dense(\n",
        "      units=num_classes,\n",
        "      activation=activation,\n",
        "      name=\"output_layer\"\n",
        "  )(x)\n",
        "\n",
        "  # Connect input and output layer\n",
        "  model = tf_keras.Model(inputs=inputs, outputs=outputs, name=model_name)\n",
        "\n",
        "  return model"
      ],
      "metadata": {
        "id": "yJ5mkg4aJ-zd"
      },
      "execution_count": 13,
      "outputs": []
    },
    {
      "cell_type": "markdown",
      "source": [
        "## Training model 0"
      ],
      "metadata": {
        "id": "fzbFII3YKMbq"
      }
    },
    {
      "cell_type": "code",
      "source": [
        "# 1. Create a model\n",
        "model_0 = create_model(num_classes=len(class_names), trainable=False)\n",
        "\n",
        "count_parameters(model=model_0, print_output=True)\n",
        "\n",
        "# 2. Compile the model\n",
        "model_0.compile(optimizer=tf_keras.optimizers.Adam(learning_rate=0.001),\n",
        "                loss=tf_keras.losses.CategoricalCrossentropy(from_logits=False),  # use from_logits=False if using an activation function in final layer\n",
        "                metrics=[\"accuracy\"])\n",
        "\n",
        "# Define the EarlyStopping callback\n",
        "early_stopping = tf_keras.callbacks.EarlyStopping(\n",
        "    monitor='val_accuracy',  # Metric to monitor for early stopping\n",
        "    patience=5,              # Number of epochs with no improvement before stopping\n",
        "    restore_best_weights=True  # Restore model weights from the epoch with the best value of the monitored quantity\n",
        ")\n",
        "\n",
        "# 3. Fit the model\n",
        "epochs = 1000\n",
        "history_0 = model_0.fit(\n",
        "    x=train_ds,\n",
        "    epochs=epochs,\n",
        "    validation_data=test_ds,\n",
        "    callbacks=[early_stopping]\n",
        ")\n",
        "\n",
        "# Save the weights as a .keras file\n",
        "weights_save_path = \"model_0_weights_not_fine_tuened.keras\"\n",
        "\n",
        "# Save only the weights\n",
        "model_0.save_weights(weights_save_path, save_format=\"h5\")\n",
        "print(f\"Weights saved to {weights_save_path}\")"
      ],
      "metadata": {
        "colab": {
          "base_uri": "https://localhost:8080/"
        },
        "id": "baVnRqebKJ7w",
        "outputId": "e51624f4-79e1-44e6-f859-742200f70434"
      },
      "execution_count": 113,
      "outputs": [
        {
          "output_type": "stream",
          "name": "stdout",
          "text": [
            "Model model parameter counts:\n",
            "Total parameters: 348154115\n",
            "Trainable parameters: 6147\n",
            "Non-trainable parameters: 348147968\n",
            "Epoch 1/1000\n",
            "158/158 [==============================] - 136s 776ms/step - loss: 0.6010 - accuracy: 0.7501 - val_loss: 0.4864 - val_accuracy: 0.8021\n",
            "Epoch 2/1000\n",
            "158/158 [==============================] - 113s 717ms/step - loss: 0.4633 - accuracy: 0.8035 - val_loss: 0.4679 - val_accuracy: 0.8068\n",
            "Epoch 3/1000\n",
            "158/158 [==============================] - 113s 718ms/step - loss: 0.4186 - accuracy: 0.8199 - val_loss: 0.4378 - val_accuracy: 0.8243\n",
            "Epoch 4/1000\n",
            "158/158 [==============================] - 112s 713ms/step - loss: 0.4077 - accuracy: 0.8219 - val_loss: 0.4301 - val_accuracy: 0.8196\n",
            "Epoch 5/1000\n",
            "158/158 [==============================] - 112s 713ms/step - loss: 0.3866 - accuracy: 0.8378 - val_loss: 0.4409 - val_accuracy: 0.8140\n",
            "Epoch 6/1000\n",
            "158/158 [==============================] - 112s 713ms/step - loss: 0.3541 - accuracy: 0.8447 - val_loss: 0.5208 - val_accuracy: 0.7790\n",
            "Epoch 7/1000\n",
            "158/158 [==============================] - 113s 713ms/step - loss: 0.3446 - accuracy: 0.8516 - val_loss: 0.4559 - val_accuracy: 0.7997\n",
            "Epoch 8/1000\n",
            "158/158 [==============================] - 112s 713ms/step - loss: 0.3339 - accuracy: 0.8565 - val_loss: 0.4227 - val_accuracy: 0.8124\n",
            "Weights saved to model_0_weights_not_fine_tuened.keras\n"
          ]
        }
      ]
    },
    {
      "cell_type": "markdown",
      "source": [
        "## Evaluate Model"
      ],
      "metadata": {
        "id": "47UfUZunPv5l"
      }
    },
    {
      "cell_type": "code",
      "source": [
        "def plot_model_loss_curves(history: tf.keras.callbacks.History) -> None:\n",
        "  \"\"\"Takes a History object and plots loss and accuracy curves.\"\"\"\n",
        "\n",
        "  # Get the accuracy values\n",
        "  acc = history.history[\"accuracy\"]\n",
        "  val_acc = history.history[\"val_accuracy\"]\n",
        "\n",
        "  # Get the loss values\n",
        "  loss = history.history[\"loss\"]\n",
        "  val_loss = history.history[\"val_loss\"]\n",
        "\n",
        "  # Get the number of epochs\n",
        "  epochs_range = range(len(acc))\n",
        "\n",
        "  # Create accuracy curves plot\n",
        "  plt.figure(figsize=(14, 7))\n",
        "  plt.subplot(1, 2, 1)\n",
        "  plt.plot(epochs_range, acc, label=\"Training Accuracy\")\n",
        "  plt.plot(epochs_range, val_acc, label=\"Validation Accuracy\")\n",
        "  plt.legend(loc=\"lower right\")\n",
        "  plt.title(\"Training and Validation Accuracy\")\n",
        "  plt.xlabel(\"Epoch\")\n",
        "  plt.ylabel(\"Accuracy\")\n",
        "\n",
        "  # Create loss curves plot\n",
        "  plt.subplot(1, 2, 2)\n",
        "  plt.plot(epochs_range, loss, label=\"Training Loss\")\n",
        "  plt.plot(epochs_range, val_loss, label=\"Validation Loss\")\n",
        "  plt.legend(loc=\"upper right\")\n",
        "  plt.title(\"Training and Validation Loss\")\n",
        "  plt.xlabel(\"Epoch\")\n",
        "  plt.ylabel(\"Loss\")\n",
        "\n",
        "  plt.show()\n",
        "\n",
        "plot_model_loss_curves(history=history_0)"
      ],
      "metadata": {
        "colab": {
          "base_uri": "https://localhost:8080/",
          "height": 629
        },
        "id": "6k7xeLB1PYG2",
        "outputId": "b4e6e366-03dd-48bb-8fe3-9ce80628b9b4"
      },
      "execution_count": 114,
      "outputs": [
        {
          "output_type": "display_data",
          "data": {
            "text/plain": [
              "<Figure size 1400x700 with 2 Axes>"
            ],
            "image/png": "[encoded data removed]"
          },
          "metadata": {}
        }
      ]
    },
    {
      "cell_type": "code",
      "source": [
        "model_0_results = model_0.evaluate(x=test_ds)\n",
        "model_0_results"
      ],
      "metadata": {
        "colab": {
          "base_uri": "https://localhost:8080/"
        },
        "id": "4GfhfROVPYk0",
        "outputId": "ce885f48-da43-48ec-e704-aee4dd7fb4cc"
      },
      "execution_count": 115,
      "outputs": [
        {
          "output_type": "stream",
          "name": "stdout",
          "text": [
            "40/40 [==============================] - 22s 559ms/step - loss: 0.4378 - accuracy: 0.8243\n"
          ]
        },
        {
          "output_type": "execute_result",
          "data": {
            "text/plain": [
              "[0.4378387928009033, 0.8243243098258972]"
            ]
          },
          "metadata": {},
          "execution_count": 115
        }
      ]
    },
    {
      "cell_type": "code",
      "source": [
        "# Get our model's metrics names\n",
        "model_0.metrics_names"
      ],
      "metadata": {
        "colab": {
          "base_uri": "https://localhost:8080/"
        },
        "id": "qs3MIvvMPrE5",
        "outputId": "fb46bc58-f4f2-4e8e-a03d-0ed03ef839cd"
      },
      "execution_count": 116,
      "outputs": [
        {
          "output_type": "execute_result",
          "data": {
            "text/plain": [
              "['loss', 'accuracy']"
            ]
          },
          "metadata": {},
          "execution_count": 116
        }
      ]
    },
    {
      "cell_type": "code",
      "source": [
        "# This will output logits (as long as softmax activation isn't in the model)\n",
        "test_preds = model_0.predict(test_ds)"
      ],
      "metadata": {
        "colab": {
          "base_uri": "https://localhost:8080/"
        },
        "id": "V-uICAgvPuki",
        "outputId": "abcb1696-bf83-4b48-db15-0d72171d8923"
      },
      "execution_count": 117,
      "outputs": [
        {
          "output_type": "stream",
          "name": "stdout",
          "text": [
            "40/40 [==============================] - 25s 558ms/step\n"
          ]
        }
      ]
    },
    {
      "cell_type": "code",
      "source": [
        "test_preds.shape"
      ],
      "metadata": {
        "colab": {
          "base_uri": "https://localhost:8080/"
        },
        "id": "iakQdosBP7C9",
        "outputId": "47c0b021-f36c-4ae2-b63d-24b43b2455e4"
      },
      "execution_count": 118,
      "outputs": [
        {
          "output_type": "execute_result",
          "data": {
            "text/plain": [
              "(1258, 3)"
            ]
          },
          "metadata": {},
          "execution_count": 118
        }
      ]
    },
    {
      "cell_type": "code",
      "source": [
        "# Get a \"random\" variable between all of the test samples\n",
        "random.seed(42)\n",
        "random_test_index = random.randint(0, test_preds.shape[0] - 1)\n",
        "print(f\"[INFO] Random test index: {random_test_index}\")\n",
        "\n",
        "# Inspect a single test prediction sample\n",
        "random_test_pred_sample = test_preds[random_test_index]\n",
        "\n",
        "print(f\"[INFO] Random test pred sample shape: {random_test_pred_sample.shape}\")\n",
        "print(f\"[INFO] Random test pred sample argmax: {tf.argmax(random_test_pred_sample)}\")\n",
        "print(f\"[INFO] Random test pred sample label: {class_names[tf.argmax(random_test_pred_sample)]}\")\n",
        "print(f\"[INFO] Random test pred sample max prediction probability: {tf.reduce_max(random_test_pred_sample)}\")\n",
        "print(f\"[INFO] Random test pred sample prediction probability values:\\n{random_test_pred_sample}\")"
      ],
      "metadata": {
        "colab": {
          "base_uri": "https://localhost:8080/"
        },
        "id": "WspODg_ZP_FP",
        "outputId": "1ba41268-9981-4468-f91d-570526c657e5"
      },
      "execution_count": 119,
      "outputs": [
        {
          "output_type": "stream",
          "name": "stdout",
          "text": [
            "[INFO] Random test index: 228\n",
            "[INFO] Random test pred sample shape: (3,)\n",
            "[INFO] Random test pred sample argmax: 0\n",
            "[INFO] Random test pred sample label: bearish\n",
            "[INFO] Random test pred sample max prediction probability: 0.8232168555259705\n",
            "[INFO] Random test pred sample prediction probability values:\n",
            "[0.82321686 0.00729629 0.16948684]\n"
          ]
        }
      ]
    },
    {
      "cell_type": "code",
      "source": [
        "import numpy as np\n",
        "\n",
        "# Extract test images and labels from test_ds\n",
        "test_ds_images = np.concatenate([images for images, labels in test_ds], axis=0)\n",
        "test_ds_labels = np.concatenate([labels for images, labels in test_ds], axis=0)\n",
        "\n",
        "# How many images and labels do we have?\n",
        "len(test_ds_images), len(test_ds_labels)"
      ],
      "metadata": {
        "colab": {
          "base_uri": "https://localhost:8080/"
        },
        "id": "vW4p0eyGQTkl",
        "outputId": "035ad8e6-f56a-4834-9b85-7ee708064d44"
      },
      "execution_count": 120,
      "outputs": [
        {
          "output_type": "execute_result",
          "data": {
            "text/plain": [
              "(1258, 1258)"
            ]
          },
          "metadata": {},
          "execution_count": 120
        }
      ]
    },
    {
      "cell_type": "code",
      "source": [
        "# Choose a random 10 indexes from the test data and compare the values\n",
        "import random\n",
        "\n",
        "#random.seed(42) # try changing the random seed or commenting it out for different values\n",
        "random_indexes = random.sample(range(len(test_ds_images)), 10)\n",
        "\n",
        "# Create a plot with multiple subplots\n",
        "fig, axes = plt.subplots(2, 5, figsize=(15, 7))\n",
        "\n",
        "# Loop through the axes of the plot\n",
        "for i, ax in enumerate(axes.flatten()):\n",
        "  target_index = random_indexes[i] # get a random index (this is another reason we didn't shuffle the test set)\n",
        "\n",
        "  # Get relevant target image, label, prediction and prediction probabilities\n",
        "  test_image = test_ds_images[target_index]\n",
        "  test_image_truth_label = class_names[tf.argmax(test_ds_labels[target_index])]\n",
        "  test_image_pred_probs = test_preds[target_index]\n",
        "  test_image_pred_class = class_names[tf.argmax(test_image_pred_probs)]\n",
        "\n",
        "  # Plot the image\n",
        "  ax.imshow(test_image.astype(\"uint8\"))\n",
        "\n",
        "  # Create sample title\n",
        "  title = f\"\"\"True: {test_image_truth_label}\n",
        "  Pred: {test_image_pred_class}\n",
        "  Prob: {np.max(test_image_pred_probs):.2f}\"\"\"\n",
        "\n",
        "  # Colour the title based on correctness of pred\n",
        "  ax.set_title(title,\n",
        "               color=\"green\" if test_image_truth_label == test_image_pred_class else \"red\")\n",
        "  ax.axis(\"off\")"
      ],
      "metadata": {
        "colab": {
          "base_uri": "https://localhost:8080/",
          "height": 576
        },
        "id": "jGSr1I9OQUH_",
        "outputId": "5982065f-30d9-4c31-c2e5-8c7e20d3d82e"
      },
      "execution_count": 121,
      "outputs": [
        {
          "output_type": "display_data",
          "data": {
            "text/plain": [
              "<Figure size 1500x700 with 10 Axes>"
            ],
            "image/png": "[encoded data removed]"
          },
          "metadata": {}
        }
      ]
    },
    {
      "cell_type": "code",
      "source": [
        "# Get argmax labels of test predictions and test ground truth\n",
        "test_preds_labels = test_preds.argmax(axis=-1)\n",
        "test_ds_labels_argmax = test_ds_labels.argmax(axis=-1)\n",
        "\n",
        "# Get highest prediction probability of test predictions\n",
        "test_pred_probs_max = tf.reduce_max(test_preds, axis=-1).numpy() # extract NumPy since pandas doesn't handle TensorFlow Tensors\n",
        "\n",
        "# Create DataFram of test results\n",
        "test_results_df = pd.DataFrame({\"test_pred_label\": test_preds_labels,\n",
        "                                \"test_pred_prob\": test_pred_probs_max,\n",
        "                                \"test_pred_class_name\": [class_names[test_pred_label] for test_pred_label in test_preds_labels],\n",
        "                                \"test_truth_label\": test_ds_labels_argmax,\n",
        "                                \"test_truth_class_name\": [class_names[test_truth_label] for test_truth_label in test_ds_labels_argmax]})\n",
        "\n",
        "# Create a column whether or not the prediction matches the label\n",
        "test_results_df[\"correct\"] = test_results_df[\"test_pred_class_name\"] == test_results_df[\"test_truth_class_name\"]\n",
        "\n",
        "test_results_df.head()"
      ],
      "metadata": {
        "colab": {
          "base_uri": "https://localhost:8080/",
          "height": 206
        },
        "id": "-nRLSQBrQv8t",
        "outputId": "9faf9922-0ca3-4808-b204-635a9ce11d92"
      },
      "execution_count": 122,
      "outputs": [
        {
          "output_type": "execute_result",
          "data": {
            "text/plain": [
              "   test_pred_label  test_pred_prob test_pred_class_name  test_truth_label  \\\n",
              "0                0        0.638985              bearish                 0   \n",
              "1                2        0.977891             sideways                 0   \n",
              "2                2        0.804821             sideways                 0   \n",
              "3                2        0.514476             sideways                 0   \n",
              "4                0        0.726248              bearish                 0   \n",
              "\n",
              "  test_truth_class_name  correct  \n",
              "0               bearish     True  \n",
              "1               bearish    False  \n",
              "2               bearish    False  \n",
              "3               bearish    False  \n",
              "4               bearish     True  "
            ],
            "text/html": [
              "\n",
              "  <div id=\"df-adca4d25-f7ae-40d7-9e71-49a1fb2c0ce5\" class=\"colab-df-container\">\n",
              "    <div>\n",
              "<style scoped>\n",
              "    .dataframe tbody tr th:only-of-type {\n",
              "        vertical-align: middle;\n",
              "    }\n",
              "\n",
              "    .dataframe tbody tr th {\n",
              "        vertical-align: top;\n",
              "    }\n",
              "\n",
              "    .dataframe thead th {\n",
              "        text-align: right;\n",
              "    }\n",
              "</style>\n",
              "<table border=\"1\" class=\"dataframe\">\n",
              "  <thead>\n",
              "    <tr style=\"text-align: right;\">\n",
              "      <th></th>\n",
              "      <th>test_pred_label</th>\n",
              "      <th>test_pred_prob</th>\n",
              "      <th>test_pred_class_name</th>\n",
              "      <th>test_truth_label</th>\n",
              "      <th>test_truth_class_name</th>\n",
              "      <th>correct</th>\n",
              "    </tr>\n",
              "  </thead>\n",
              "  <tbody>\n",
              "    <tr>\n",
              "      <th>0</th>\n",
              "      <td>0</td>\n",
              "      <td>0.638985</td>\n",
              "      <td>bearish</td>\n",
              "      <td>0</td>\n",
              "      <td>bearish</td>\n",
              "      <td>True</td>\n",
              "    </tr>\n",
              "    <tr>\n",
              "      <th>1</th>\n",
              "      <td>2</td>\n",
              "      <td>0.977891</td>\n",
              "      <td>sideways</td>\n",
              "      <td>0</td>\n",
              "      <td>bearish</td>\n",
              "      <td>False</td>\n",
              "    </tr>\n",
              "    <tr>\n",
              "      <th>2</th>\n",
              "      <td>2</td>\n",
              "      <td>0.804821</td>\n",
              "      <td>sideways</td>\n",
              "      <td>0</td>\n",
              "      <td>bearish</td>\n",
              "      <td>False</td>\n",
              "    </tr>\n",
              "    <tr>\n",
              "      <th>3</th>\n",
              "      <td>2</td>\n",
              "      <td>0.514476</td>\n",
              "      <td>sideways</td>\n",
              "      <td>0</td>\n",
              "      <td>bearish</td>\n",
              "      <td>False</td>\n",
              "    </tr>\n",
              "    <tr>\n",
              "      <th>4</th>\n",
              "      <td>0</td>\n",
              "      <td>0.726248</td>\n",
              "      <td>bearish</td>\n",
              "      <td>0</td>\n",
              "      <td>bearish</td>\n",
              "      <td>True</td>\n",
              "    </tr>\n",
              "  </tbody>\n",
              "</table>\n",
              "</div>\n",
              "    <div class=\"colab-df-buttons\">\n",
              "\n",
              "  <div class=\"colab-df-container\">\n",
              "    <button class=\"colab-df-convert\" onclick=\"convertToInteractive('df-adca4d25-f7ae-40d7-9e71-49a1fb2c0ce5')\"\n",
              "            title=\"Convert this dataframe to an interactive table.\"\n",
              "            style=\"display:none;\">\n",
              "\n",
              "  <svg xmlns=\"http://www.w3.org/2000/svg\" height=\"24px\" viewBox=\"0 -960 960 960\">\n",
              "    <path d=\"M120-120v-720h720v720H120Zm60-500h600v-160H180v160Zm220 220h160v-160H400v160Zm0 220h160v-160H400v160ZM180-400h160v-160H180v160Zm440 0h160v-160H620v160ZM180-180h160v-160H180v160Zm440 0h160v-160H620v160Z\"/>\n",
              "  </svg>\n",
              "    </button>\n",
              "\n",
              "  <style>\n",
              "    .colab-df-container {\n",
              "      display:flex;\n",
              "      gap: 12px;\n",
              "    }\n",
              "\n",
              "    .colab-df-convert {\n",
              "      background-color: #E8F0FE;\n",
              "      border: none;\n",
              "      border-radius: 50%;\n",
              "      cursor: pointer;\n",
              "      display: none;\n",
              "      fill: #1967D2;\n",
              "      height: 32px;\n",
              "      padding: 0 0 0 0;\n",
              "      width: 32px;\n",
              "    }\n",
              "\n",
              "    .colab-df-convert:hover {\n",
              "      background-color: #E2EBFA;\n",
              "      box-shadow: 0px 1px 2px rgba(60, 64, 67, 0.3), 0px 1px 3px 1px rgba(60, 64, 67, 0.15);\n",
              "      fill: #174EA6;\n",
              "    }\n",
              "\n",
              "    .colab-df-buttons div {\n",
              "      margin-bottom: 4px;\n",
              "    }\n",
              "\n",
              "    [theme=dark] .colab-df-convert {\n",
              "      background-color: #3B4455;\n",
              "      fill: #D2E3FC;\n",
              "    }\n",
              "\n",
              "    [theme=dark] .colab-df-convert:hover {\n",
              "      background-color: #434B5C;\n",
              "      box-shadow: 0px 1px 3px 1px rgba(0, 0, 0, 0.15);\n",
              "      filter: drop-shadow(0px 1px 2px rgba(0, 0, 0, 0.3));\n",
              "      fill: #FFFFFF;\n",
              "    }\n",
              "  </style>\n",
              "\n",
              "    <script>\n",
              "      const buttonEl =\n",
              "        document.querySelector('#df-adca4d25-f7ae-40d7-9e71-49a1fb2c0ce5 button.colab-df-convert');\n",
              "      buttonEl.style.display =\n",
              "        google.colab.kernel.accessAllowed ? 'block' : 'none';\n",
              "\n",
              "      async function convertToInteractive(key) {\n",
              "        const element = document.querySelector('#df-adca4d25-f7ae-40d7-9e71-49a1fb2c0ce5');\n",
              "        const dataTable =\n",
              "          await google.colab.kernel.invokeFunction('convertToInteractive',\n",
              "                                                    [key], {});\n",
              "        if (!dataTable) return;\n",
              "\n",
              "        const docLinkHtml = 'Like what you see? Visit the ' +\n",
              "          '<a target=\"_blank\" href=https://colab.research.google.com/notebooks/data_table.ipynb>data table notebook</a>'\n",
              "          + ' to learn more about interactive tables.';\n",
              "        element.innerHTML = '';\n",
              "        dataTable['output_type'] = 'display_data';\n",
              "        await google.colab.output.renderOutput(dataTable, element);\n",
              "        const docLink = document.createElement('div');\n",
              "        docLink.innerHTML = docLinkHtml;\n",
              "        element.appendChild(docLink);\n",
              "      }\n",
              "    </script>\n",
              "  </div>\n",
              "\n",
              "\n",
              "<div id=\"df-a0f4cdeb-7b61-4b41-aa9a-a2c682f5f57a\">\n",
              "  <button class=\"colab-df-quickchart\" onclick=\"quickchart('df-a0f4cdeb-7b61-4b41-aa9a-a2c682f5f57a')\"\n",
              "            title=\"Suggest charts\"\n",
              "            style=\"display:none;\">\n",
              "\n",
              "<svg xmlns=\"http://www.w3.org/2000/svg\" height=\"24px\"viewBox=\"0 0 24 24\"\n",
              "     width=\"24px\">\n",
              "    <g>\n",
              "        <path d=\"M19 3H5c-1.1 0-2 .9-2 2v14c0 1.1.9 2 2 2h14c1.1 0 2-.9 2-2V5c0-1.1-.9-2-2-2zM9 17H7v-7h2v7zm4 0h-2V7h2v10zm4 0h-2v-4h2v4z\"/>\n",
              "    </g>\n",
              "</svg>\n",
              "  </button>\n",
              "\n",
              "<style>\n",
              "  .colab-df-quickchart {\n",
              "      --bg-color: #E8F0FE;\n",
              "      --fill-color: #1967D2;\n",
              "      --hover-bg-color: #E2EBFA;\n",
              "      --hover-fill-color: #174EA6;\n",
              "      --disabled-fill-color: #AAA;\n",
              "      --disabled-bg-color: #DDD;\n",
              "  }\n",
              "\n",
              "  [theme=dark] .colab-df-quickchart {\n",
              "      --bg-color: #3B4455;\n",
              "      --fill-color: #D2E3FC;\n",
              "      --hover-bg-color: #434B5C;\n",
              "      --hover-fill-color: #FFFFFF;\n",
              "      --disabled-bg-color: #3B4455;\n",
              "      --disabled-fill-color: #666;\n",
              "  }\n",
              "\n",
              "  .colab-df-quickchart {\n",
              "    background-color: var(--bg-color);\n",
              "    border: none;\n",
              "    border-radius: 50%;\n",
              "    cursor: pointer;\n",
              "    display: none;\n",
              "    fill: var(--fill-color);\n",
              "    height: 32px;\n",
              "    padding: 0;\n",
              "    width: 32px;\n",
              "  }\n",
              "\n",
              "  .colab-df-quickchart:hover {\n",
              "    background-color: var(--hover-bg-color);\n",
              "    box-shadow: 0 1px 2px rgba(60, 64, 67, 0.3), 0 1px 3px 1px rgba(60, 64, 67, 0.15);\n",
              "    fill: var(--button-hover-fill-color);\n",
              "  }\n",
              "\n",
              "  .colab-df-quickchart-complete:disabled,\n",
              "  .colab-df-quickchart-complete:disabled:hover {\n",
              "    background-color: var(--disabled-bg-color);\n",
              "    fill: var(--disabled-fill-color);\n",
              "    box-shadow: none;\n",
              "  }\n",
              "\n",
              "  .colab-df-spinner {\n",
              "    border: 2px solid var(--fill-color);\n",
              "    border-color: transparent;\n",
              "    border-bottom-color: var(--fill-color);\n",
              "    animation:\n",
              "      spin 1s steps(1) infinite;\n",
              "  }\n",
              "\n",
              "  @keyframes spin {\n",
              "    0% {\n",
              "      border-color: transparent;\n",
              "      border-bottom-color: var(--fill-color);\n",
              "      border-left-color: var(--fill-color);\n",
              "    }\n",
              "    20% {\n",
              "      border-color: transparent;\n",
              "      border-left-color: var(--fill-color);\n",
              "      border-top-color: var(--fill-color);\n",
              "    }\n",
              "    30% {\n",
              "      border-color: transparent;\n",
              "      border-left-color: var(--fill-color);\n",
              "      border-top-color: var(--fill-color);\n",
              "      border-right-color: var(--fill-color);\n",
              "    }\n",
              "    40% {\n",
              "      border-color: transparent;\n",
              "      border-right-color: var(--fill-color);\n",
              "      border-top-color: var(--fill-color);\n",
              "    }\n",
              "    60% {\n",
              "      border-color: transparent;\n",
              "      border-right-color: var(--fill-color);\n",
              "    }\n",
              "    80% {\n",
              "      border-color: transparent;\n",
              "      border-right-color: var(--fill-color);\n",
              "      border-bottom-color: var(--fill-color);\n",
              "    }\n",
              "    90% {\n",
              "      border-color: transparent;\n",
              "      border-bottom-color: var(--fill-color);\n",
              "    }\n",
              "  }\n",
              "</style>\n",
              "\n",
              "  <script>\n",
              "    async function quickchart(key) {\n",
              "      const quickchartButtonEl =\n",
              "        document.querySelector('#' + key + ' button');\n",
              "      quickchartButtonEl.disabled = true;  // To prevent multiple clicks.\n",
              "      quickchartButtonEl.classList.add('colab-df-spinner');\n",
              "      try {\n",
              "        const charts = await google.colab.kernel.invokeFunction(\n",
              "            'suggestCharts', [key], {});\n",
              "      } catch (error) {\n",
              "        console.error('Error during call to suggestCharts:', error);\n",
              "      }\n",
              "      quickchartButtonEl.classList.remove('colab-df-spinner');\n",
              "      quickchartButtonEl.classList.add('colab-df-quickchart-complete');\n",
              "    }\n",
              "    (() => {\n",
              "      let quickchartButtonEl =\n",
              "        document.querySelector('#df-a0f4cdeb-7b61-4b41-aa9a-a2c682f5f57a button');\n",
              "      quickchartButtonEl.style.display =\n",
              "        google.colab.kernel.accessAllowed ? 'block' : 'none';\n",
              "    })();\n",
              "  </script>\n",
              "</div>\n",
              "\n",
              "    </div>\n",
              "  </div>\n"
            ],
            "application/vnd.google.colaboratory.intrinsic+json": {
              "type": "dataframe",
              "variable_name": "test_results_df",
              "summary": "{\n  \"name\": \"test_results_df\",\n  \"rows\": 1258,\n  \"fields\": [\n    {\n      \"column\": \"test_pred_label\",\n      \"properties\": {\n        \"dtype\": \"number\",\n        \"std\": 0,\n        \"min\": 0,\n        \"max\": 2,\n        \"num_unique_values\": 3,\n        \"samples\": [\n          0,\n          2,\n          1\n        ],\n        \"semantic_type\": \"\",\n        \"description\": \"\"\n      }\n    },\n    {\n      \"column\": \"test_pred_prob\",\n      \"properties\": {\n        \"dtype\": \"float32\",\n        \"num_unique_values\": 1258,\n        \"samples\": [\n          0.9786615371704102,\n          0.8840084075927734,\n          0.9066218733787537\n        ],\n        \"semantic_type\": \"\",\n        \"description\": \"\"\n      }\n    },\n    {\n      \"column\": \"test_pred_class_name\",\n      \"properties\": {\n        \"dtype\": \"category\",\n        \"num_unique_values\": 3,\n        \"samples\": [\n          \"bearish\",\n          \"sideways\",\n          \"bullish\"\n        ],\n        \"semantic_type\": \"\",\n        \"description\": \"\"\n      }\n    },\n    {\n      \"column\": \"test_truth_label\",\n      \"properties\": {\n        \"dtype\": \"number\",\n        \"std\": 0,\n        \"min\": 0,\n        \"max\": 2,\n        \"num_unique_values\": 3,\n        \"samples\": [\n          0,\n          1,\n          2\n        ],\n        \"semantic_type\": \"\",\n        \"description\": \"\"\n      }\n    },\n    {\n      \"column\": \"test_truth_class_name\",\n      \"properties\": {\n        \"dtype\": \"category\",\n        \"num_unique_values\": 3,\n        \"samples\": [\n          \"bearish\",\n          \"bullish\",\n          \"sideways\"\n        ],\n        \"semantic_type\": \"\",\n        \"description\": \"\"\n      }\n    },\n    {\n      \"column\": \"correct\",\n      \"properties\": {\n        \"dtype\": \"boolean\",\n        \"num_unique_values\": 2,\n        \"samples\": [\n          false,\n          true\n        ],\n        \"semantic_type\": \"\",\n        \"description\": \"\"\n      }\n    }\n  ]\n}"
            }
          },
          "metadata": {},
          "execution_count": 122
        }
      ]
    },
    {
      "cell_type": "code",
      "source": [
        "# Calculate accuracy per class\n",
        "accuracy_per_class = test_results_df.groupby(\"test_truth_class_name\")[\"correct\"].mean()\n",
        "\n",
        "# Create new DataFrame to sort classes by accuracy\n",
        "accuracy_per_class_df = pd.DataFrame(accuracy_per_class).reset_index().sort_values(\"correct\", ascending=False)\n",
        "accuracy_per_class_df.head()"
      ],
      "metadata": {
        "colab": {
          "base_uri": "https://localhost:8080/",
          "height": 143
        },
        "id": "HgSlD9zBQuSf",
        "outputId": "9346606a-699d-4c15-8c21-e13f7201e71f"
      },
      "execution_count": 123,
      "outputs": [
        {
          "output_type": "execute_result",
          "data": {
            "text/plain": [
              "  test_truth_class_name   correct\n",
              "2              sideways  0.871148\n",
              "1               bullish  0.792308\n",
              "0               bearish  0.735915"
            ],
            "text/html": [
              "\n",
              "  <div id=\"df-2640567e-8cf6-44f6-a47a-cfdf07cb6e53\" class=\"colab-df-container\">\n",
              "    <div>\n",
              "<style scoped>\n",
              "    .dataframe tbody tr th:only-of-type {\n",
              "        vertical-align: middle;\n",
              "    }\n",
              "\n",
              "    .dataframe tbody tr th {\n",
              "        vertical-align: top;\n",
              "    }\n",
              "\n",
              "    .dataframe thead th {\n",
              "        text-align: right;\n",
              "    }\n",
              "</style>\n",
              "<table border=\"1\" class=\"dataframe\">\n",
              "  <thead>\n",
              "    <tr style=\"text-align: right;\">\n",
              "      <th></th>\n",
              "      <th>test_truth_class_name</th>\n",
              "      <th>correct</th>\n",
              "    </tr>\n",
              "  </thead>\n",
              "  <tbody>\n",
              "    <tr>\n",
              "      <th>2</th>\n",
              "      <td>sideways</td>\n",
              "      <td>0.871148</td>\n",
              "    </tr>\n",
              "    <tr>\n",
              "      <th>1</th>\n",
              "      <td>bullish</td>\n",
              "      <td>0.792308</td>\n",
              "    </tr>\n",
              "    <tr>\n",
              "      <th>0</th>\n",
              "      <td>bearish</td>\n",
              "      <td>0.735915</td>\n",
              "    </tr>\n",
              "  </tbody>\n",
              "</table>\n",
              "</div>\n",
              "    <div class=\"colab-df-buttons\">\n",
              "\n",
              "  <div class=\"colab-df-container\">\n",
              "    <button class=\"colab-df-convert\" onclick=\"convertToInteractive('df-2640567e-8cf6-44f6-a47a-cfdf07cb6e53')\"\n",
              "            title=\"Convert this dataframe to an interactive table.\"\n",
              "            style=\"display:none;\">\n",
              "\n",
              "  <svg xmlns=\"http://www.w3.org/2000/svg\" height=\"24px\" viewBox=\"0 -960 960 960\">\n",
              "    <path d=\"M120-120v-720h720v720H120Zm60-500h600v-160H180v160Zm220 220h160v-160H400v160Zm0 220h160v-160H400v160ZM180-400h160v-160H180v160Zm440 0h160v-160H620v160ZM180-180h160v-160H180v160Zm440 0h160v-160H620v160Z\"/>\n",
              "  </svg>\n",
              "    </button>\n",
              "\n",
              "  <style>\n",
              "    .colab-df-container {\n",
              "      display:flex;\n",
              "      gap: 12px;\n",
              "    }\n",
              "\n",
              "    .colab-df-convert {\n",
              "      background-color: #E8F0FE;\n",
              "      border: none;\n",
              "      border-radius: 50%;\n",
              "      cursor: pointer;\n",
              "      display: none;\n",
              "      fill: #1967D2;\n",
              "      height: 32px;\n",
              "      padding: 0 0 0 0;\n",
              "      width: 32px;\n",
              "    }\n",
              "\n",
              "    .colab-df-convert:hover {\n",
              "      background-color: #E2EBFA;\n",
              "      box-shadow: 0px 1px 2px rgba(60, 64, 67, 0.3), 0px 1px 3px 1px rgba(60, 64, 67, 0.15);\n",
              "      fill: #174EA6;\n",
              "    }\n",
              "\n",
              "    .colab-df-buttons div {\n",
              "      margin-bottom: 4px;\n",
              "    }\n",
              "\n",
              "    [theme=dark] .colab-df-convert {\n",
              "      background-color: #3B4455;\n",
              "      fill: #D2E3FC;\n",
              "    }\n",
              "\n",
              "    [theme=dark] .colab-df-convert:hover {\n",
              "      background-color: #434B5C;\n",
              "      box-shadow: 0px 1px 3px 1px rgba(0, 0, 0, 0.15);\n",
              "      filter: drop-shadow(0px 1px 2px rgba(0, 0, 0, 0.3));\n",
              "      fill: #FFFFFF;\n",
              "    }\n",
              "  </style>\n",
              "\n",
              "    <script>\n",
              "      const buttonEl =\n",
              "        document.querySelector('#df-2640567e-8cf6-44f6-a47a-cfdf07cb6e53 button.colab-df-convert');\n",
              "      buttonEl.style.display =\n",
              "        google.colab.kernel.accessAllowed ? 'block' : 'none';\n",
              "\n",
              "      async function convertToInteractive(key) {\n",
              "        const element = document.querySelector('#df-2640567e-8cf6-44f6-a47a-cfdf07cb6e53');\n",
              "        const dataTable =\n",
              "          await google.colab.kernel.invokeFunction('convertToInteractive',\n",
              "                                                    [key], {});\n",
              "        if (!dataTable) return;\n",
              "\n",
              "        const docLinkHtml = 'Like what you see? Visit the ' +\n",
              "          '<a target=\"_blank\" href=https://colab.research.google.com/notebooks/data_table.ipynb>data table notebook</a>'\n",
              "          + ' to learn more about interactive tables.';\n",
              "        element.innerHTML = '';\n",
              "        dataTable['output_type'] = 'display_data';\n",
              "        await google.colab.output.renderOutput(dataTable, element);\n",
              "        const docLink = document.createElement('div');\n",
              "        docLink.innerHTML = docLinkHtml;\n",
              "        element.appendChild(docLink);\n",
              "      }\n",
              "    </script>\n",
              "  </div>\n",
              "\n",
              "\n",
              "<div id=\"df-130d7a90-51dd-4adc-a488-fcae28456978\">\n",
              "  <button class=\"colab-df-quickchart\" onclick=\"quickchart('df-130d7a90-51dd-4adc-a488-fcae28456978')\"\n",
              "            title=\"Suggest charts\"\n",
              "            style=\"display:none;\">\n",
              "\n",
              "<svg xmlns=\"http://www.w3.org/2000/svg\" height=\"24px\"viewBox=\"0 0 24 24\"\n",
              "     width=\"24px\">\n",
              "    <g>\n",
              "        <path d=\"M19 3H5c-1.1 0-2 .9-2 2v14c0 1.1.9 2 2 2h14c1.1 0 2-.9 2-2V5c0-1.1-.9-2-2-2zM9 17H7v-7h2v7zm4 0h-2V7h2v10zm4 0h-2v-4h2v4z\"/>\n",
              "    </g>\n",
              "</svg>\n",
              "  </button>\n",
              "\n",
              "<style>\n",
              "  .colab-df-quickchart {\n",
              "      --bg-color: #E8F0FE;\n",
              "      --fill-color: #1967D2;\n",
              "      --hover-bg-color: #E2EBFA;\n",
              "      --hover-fill-color: #174EA6;\n",
              "      --disabled-fill-color: #AAA;\n",
              "      --disabled-bg-color: #DDD;\n",
              "  }\n",
              "\n",
              "  [theme=dark] .colab-df-quickchart {\n",
              "      --bg-color: #3B4455;\n",
              "      --fill-color: #D2E3FC;\n",
              "      --hover-bg-color: #434B5C;\n",
              "      --hover-fill-color: #FFFFFF;\n",
              "      --disabled-bg-color: #3B4455;\n",
              "      --disabled-fill-color: #666;\n",
              "  }\n",
              "\n",
              "  .colab-df-quickchart {\n",
              "    background-color: var(--bg-color);\n",
              "    border: none;\n",
              "    border-radius: 50%;\n",
              "    cursor: pointer;\n",
              "    display: none;\n",
              "    fill: var(--fill-color);\n",
              "    height: 32px;\n",
              "    padding: 0;\n",
              "    width: 32px;\n",
              "  }\n",
              "\n",
              "  .colab-df-quickchart:hover {\n",
              "    background-color: var(--hover-bg-color);\n",
              "    box-shadow: 0 1px 2px rgba(60, 64, 67, 0.3), 0 1px 3px 1px rgba(60, 64, 67, 0.15);\n",
              "    fill: var(--button-hover-fill-color);\n",
              "  }\n",
              "\n",
              "  .colab-df-quickchart-complete:disabled,\n",
              "  .colab-df-quickchart-complete:disabled:hover {\n",
              "    background-color: var(--disabled-bg-color);\n",
              "    fill: var(--disabled-fill-color);\n",
              "    box-shadow: none;\n",
              "  }\n",
              "\n",
              "  .colab-df-spinner {\n",
              "    border: 2px solid var(--fill-color);\n",
              "    border-color: transparent;\n",
              "    border-bottom-color: var(--fill-color);\n",
              "    animation:\n",
              "      spin 1s steps(1) infinite;\n",
              "  }\n",
              "\n",
              "  @keyframes spin {\n",
              "    0% {\n",
              "      border-color: transparent;\n",
              "      border-bottom-color: var(--fill-color);\n",
              "      border-left-color: var(--fill-color);\n",
              "    }\n",
              "    20% {\n",
              "      border-color: transparent;\n",
              "      border-left-color: var(--fill-color);\n",
              "      border-top-color: var(--fill-color);\n",
              "    }\n",
              "    30% {\n",
              "      border-color: transparent;\n",
              "      border-left-color: var(--fill-color);\n",
              "      border-top-color: var(--fill-color);\n",
              "      border-right-color: var(--fill-color);\n",
              "    }\n",
              "    40% {\n",
              "      border-color: transparent;\n",
              "      border-right-color: var(--fill-color);\n",
              "      border-top-color: var(--fill-color);\n",
              "    }\n",
              "    60% {\n",
              "      border-color: transparent;\n",
              "      border-right-color: var(--fill-color);\n",
              "    }\n",
              "    80% {\n",
              "      border-color: transparent;\n",
              "      border-right-color: var(--fill-color);\n",
              "      border-bottom-color: var(--fill-color);\n",
              "    }\n",
              "    90% {\n",
              "      border-color: transparent;\n",
              "      border-bottom-color: var(--fill-color);\n",
              "    }\n",
              "  }\n",
              "</style>\n",
              "\n",
              "  <script>\n",
              "    async function quickchart(key) {\n",
              "      const quickchartButtonEl =\n",
              "        document.querySelector('#' + key + ' button');\n",
              "      quickchartButtonEl.disabled = true;  // To prevent multiple clicks.\n",
              "      quickchartButtonEl.classList.add('colab-df-spinner');\n",
              "      try {\n",
              "        const charts = await google.colab.kernel.invokeFunction(\n",
              "            'suggestCharts', [key], {});\n",
              "      } catch (error) {\n",
              "        console.error('Error during call to suggestCharts:', error);\n",
              "      }\n",
              "      quickchartButtonEl.classList.remove('colab-df-spinner');\n",
              "      quickchartButtonEl.classList.add('colab-df-quickchart-complete');\n",
              "    }\n",
              "    (() => {\n",
              "      let quickchartButtonEl =\n",
              "        document.querySelector('#df-130d7a90-51dd-4adc-a488-fcae28456978 button');\n",
              "      quickchartButtonEl.style.display =\n",
              "        google.colab.kernel.accessAllowed ? 'block' : 'none';\n",
              "    })();\n",
              "  </script>\n",
              "</div>\n",
              "\n",
              "    </div>\n",
              "  </div>\n"
            ],
            "application/vnd.google.colaboratory.intrinsic+json": {
              "type": "dataframe",
              "variable_name": "accuracy_per_class_df",
              "summary": "{\n  \"name\": \"accuracy_per_class_df\",\n  \"rows\": 3,\n  \"fields\": [\n    {\n      \"column\": \"test_truth_class_name\",\n      \"properties\": {\n        \"dtype\": \"string\",\n        \"num_unique_values\": 3,\n        \"samples\": [\n          \"sideways\",\n          \"bullish\",\n          \"bearish\"\n        ],\n        \"semantic_type\": \"\",\n        \"description\": \"\"\n      }\n    },\n    {\n      \"column\": \"correct\",\n      \"properties\": {\n        \"dtype\": \"number\",\n        \"std\": 0.06792631045115889,\n        \"min\": 0.7359154929577465,\n        \"max\": 0.8711484593837535,\n        \"num_unique_values\": 3,\n        \"samples\": [\n          0.8711484593837535,\n          0.7923076923076923,\n          0.7359154929577465\n        ],\n        \"semantic_type\": \"\",\n        \"description\": \"\"\n      }\n    }\n  ]\n}"
            }
          },
          "metadata": {},
          "execution_count": 123
        }
      ]
    },
    {
      "cell_type": "code",
      "source": [
        "# Let's create a horizontal bar chart to replicate a similar plot to the original Stanford Dogs page\n",
        "plt.figure(figsize=(10, 10))\n",
        "plt.barh(y=accuracy_per_class_df[\"test_truth_class_name\"],\n",
        "         width=accuracy_per_class_df[\"correct\"])\n",
        "plt.xlabel(\"Accuracy\")\n",
        "plt.ylabel(\"Class Name\")\n",
        "plt.title(\"Dog Vision Accuracy per Class\")\n",
        "plt.ylim(-0.5, len(accuracy_per_class_df[\"test_truth_class_name\"]) - 0.5)  # Adjust y-axis limits to reduce white space\n",
        "plt.gca().invert_yaxis()  # This will display the first class at the top\n",
        "plt.tight_layout()\n",
        "plt.show()"
      ],
      "metadata": {
        "colab": {
          "base_uri": "https://localhost:8080/",
          "height": 1000
        },
        "id": "vtAHnnskQV2L",
        "outputId": "c7b12838-51f3-4c96-86d0-e8c7202721ff"
      },
      "execution_count": 124,
      "outputs": [
        {
          "output_type": "display_data",
          "data": {
            "text/plain": [
              "<Figure size 1000x1000 with 1 Axes>"
            ],
            "image/png": "[encoded data removed]"
          },
          "metadata": {}
        }
      ]
    },
    {
      "cell_type": "code",
      "source": [
        "from sklearn.metrics import confusion_matrix, ConfusionMatrixDisplay\n",
        "\n",
        "# Create a confusion matrix\n",
        "confusion_matrix_dog_preds = confusion_matrix(y_true=test_ds_labels_argmax, # requires all labels to be in same format (e.g. not one-hot)\n",
        "                                              y_pred=test_preds_labels)\n",
        "# Create a confusion matrix plot\n",
        "confusion_matrix_display = ConfusionMatrixDisplay(confusion_matrix=confusion_matrix_dog_preds,\n",
        "                                                  display_labels=class_names)\n",
        "fig, ax = plt.subplots(figsize=(10, 10))\n",
        "ax.set_title(\"Dog Vision Confusion Matrix\")\n",
        "confusion_matrix_display.plot(xticks_rotation=\"vertical\",\n",
        "                              cmap=\"Blues\",\n",
        "                              colorbar=False,\n",
        "                              ax=ax);"
      ],
      "metadata": {
        "colab": {
          "base_uri": "https://localhost:8080/",
          "height": 922
        },
        "id": "EE16QimvQzeP",
        "outputId": "b4d16e6d-e254-418a-e488-8109ec77f916"
      },
      "execution_count": 125,
      "outputs": [
        {
          "output_type": "display_data",
          "data": {
            "text/plain": [
              "<Figure size 1000x1000 with 1 Axes>"
            ],
            "image/png": "[encoded data removed]"
          },
          "metadata": {}
        }
      ]
    },
    {
      "cell_type": "markdown",
      "source": [
        "## Make Predictions/ load trained model"
      ],
      "metadata": {
        "id": "kc1OhdiGjgvN"
      }
    },
    {
      "cell_type": "code",
      "source": [
        "# 1. Create a model\n",
        "model_0_loaded = create_model(num_classes=len(class_names), trainable=False)\n",
        "\n",
        "# 2. Compile the model\n",
        "model_0_loaded.compile(optimizer=tf_keras.optimizers.Adam(learning_rate=0.001),\n",
        "                loss=tf_keras.losses.CategoricalCrossentropy(from_logits=False),  # use from_logits=False if using an activation function in final layer\n",
        "                metrics=[\"accuracy\"])\n",
        "\n",
        "# Load the weights\n",
        "model_0_loaded.load_weights('model_0_weights_not_fine_tuened.keras')\n",
        "\n",
        "loaded_model_results = model_0_loaded.evaluate(test_ds)"
      ],
      "metadata": {
        "colab": {
          "base_uri": "https://localhost:8080/"
        },
        "id": "qghn1mSbdpdJ",
        "outputId": "e900a626-8f7a-4cb0-ff12-b6c2e0b42852"
      },
      "execution_count": 127,
      "outputs": [
        {
          "output_type": "stream",
          "name": "stdout",
          "text": [
            "40/40 [==============================] - 31s 606ms/step - loss: 0.4378 - accuracy: 0.8243\n"
          ]
        }
      ]
    },
    {
      "cell_type": "code",
      "source": [
        "# Download the model from Kaggle\n",
        "model_0_loaded_path = kagglehub.model_download(\"sulimantadros/trend-convnextxlarge-no-fine-tuned-weights-only/other/default\")\n",
        "\n",
        "# Move the downloaded directory to the current directory\n",
        "destination_dir = \"./model_0\"\n",
        "if not os.path.exists(destination_dir):\n",
        "    shutil.move(model_0_loaded_path, destination_dir)\n",
        "\n",
        "# Full path to the .keras model file\n",
        "model_0_file = os.path.join(destination_dir, \"1\", \"model_0.keras\")"
      ],
      "metadata": {
        "colab": {
          "base_uri": "https://localhost:8080/",
          "height": 1000,
          "referenced_widgets": [
            "f361081ef7f74b6ba8f254d199a83711",
            "977a35bee49f4ebea1de7bad6925ddb4",
            "a2a7fc04d9384cf6ae0ca7bb6f3a7f96",
            "f0ad05375e9d4dceac6258339400f606",
            "4bb1e1ffff22422cb5e675362bb0d51b",
            "65881e8b33e8475f88f276f4fdb25ab2",
            "167bf6c16a0c42b19a209320c4826e52",
            "0eea0d325fdc46a08536014ab0935206",
            "4dbcbfc4515a403183da9eb6af16337a",
            "ca1efb5c57724d97b24cc1c3de2dc4dc",
            "16645bf4329a4a1cb8d00bab8bf782c3"
          ]
        },
        "id": "RwRzn1AMagIP",
        "outputId": "0612e981-76c7-462b-dc9f-2756fd87bc59"
      },
      "execution_count": 128,
      "outputs": [
        {
          "output_type": "display_data",
          "data": {
            "text/plain": [
              "Downloading 1 files:   0%|          | 0/1 [00:00<?, ?it/s]"
            ],
            "application/vnd.jupyter.widget-view+json": {
              "version_major": 2,
              "version_minor": 0,
              "model_id": "f361081ef7f74b6ba8f254d199a83711"
            }
          },
          "metadata": {}
        },
        {
          "output_type": "stream",
          "name": "stdout",
          "text": [
            "Downloading from https://www.kaggle.com/api/v1/models/sulimantadros/trend-convnextxlarge-no-fine-tuned-weights-only/other/default/1/download/model_0_weights_not_fine_tuened.keras...\n"
          ]
        },
        {
          "output_type": "stream",
          "name": "stderr",
          "text": [
            "\n",
            "  0%|          | 0.00/1.30G [00:00<?, ?B/s]\u001b[A\n",
            "  0%|          | 1.00M/1.30G [00:00<07:39, 3.03MB/s]\u001b[A\n",
            "  0%|          | 4.00M/1.30G [00:00<02:08, 10.8MB/s]\u001b[A\n",
            "  1%|          | 11.0M/1.30G [00:00<00:49, 27.8MB/s]\u001b[A\n",
            "  1%|          | 16.0M/1.30G [00:00<00:40, 34.3MB/s]\u001b[A\n",
            "  2%|▏         | 21.0M/1.30G [00:00<00:36, 37.7MB/s]\u001b[A\n",
            "  2%|▏         | 29.0M/1.30G [00:00<00:29, 45.9MB/s]\u001b[A\n",
            "  3%|▎         | 35.0M/1.30G [00:01<00:27, 49.8MB/s]\u001b[A\n",
            "  3%|▎         | 41.0M/1.30G [00:01<00:27, 49.4MB/s]\u001b[A\n",
            "  3%|▎         | 46.0M/1.30G [00:01<00:27, 48.2MB/s]\u001b[A\n",
            "  4%|▍         | 54.0M/1.30G [00:01<00:24, 55.3MB/s]\u001b[A\n",
            "  5%|▍         | 61.0M/1.30G [00:01<00:22, 58.5MB/s]\u001b[A\n",
            "  5%|▌         | 67.0M/1.30G [00:01<00:24, 53.9MB/s]\u001b[A\n",
            "  5%|▌         | 73.0M/1.30G [00:01<00:24, 54.6MB/s]\u001b[A\n",
            "  6%|▌         | 80.0M/1.30G [00:01<00:22, 57.6MB/s]\u001b[A\n",
            "  7%|▋         | 87.0M/1.30G [00:01<00:21, 60.3MB/s]\u001b[A\n",
            "  7%|▋         | 93.0M/1.30G [00:02<00:23, 54.2MB/s]\u001b[A\n",
            "  7%|▋         | 99.0M/1.30G [00:02<00:23, 55.6MB/s]\u001b[A\n",
            "  8%|▊         | 105M/1.30G [00:02<00:29, 43.2MB/s] \u001b[A\n",
            "  8%|▊         | 112M/1.30G [00:02<00:26, 48.7MB/s]\u001b[A\n",
            "  9%|▉         | 119M/1.30G [00:02<00:23, 53.1MB/s]\u001b[A\n",
            "  9%|▉         | 125M/1.30G [00:02<00:25, 48.6MB/s]\u001b[A\n",
            " 10%|▉         | 130M/1.30G [00:03<00:29, 42.5MB/s]\u001b[A\n",
            " 10%|█         | 136M/1.30G [00:03<00:26, 46.5MB/s]\u001b[A\n",
            " 11%|█         | 143M/1.30G [00:03<00:24, 51.5MB/s]\u001b[A\n",
            " 11%|█▏        | 150M/1.30G [00:03<00:21, 56.7MB/s]\u001b[A\n",
            " 12%|█▏        | 156M/1.30G [00:03<00:22, 54.8MB/s]\u001b[A\n",
            " 12%|█▏        | 163M/1.30G [00:03<00:21, 58.0MB/s]\u001b[A\n",
            " 13%|█▎        | 171M/1.30G [00:03<00:19, 62.2MB/s]\u001b[A\n",
            " 13%|█▎        | 178M/1.30G [00:03<00:20, 59.7MB/s]\u001b[A\n",
            " 14%|█▍        | 184M/1.30G [00:03<00:20, 59.5MB/s]\u001b[A\n",
            " 14%|█▍        | 190M/1.30G [00:04<00:20, 57.4MB/s]\u001b[A\n",
            " 15%|█▍        | 196M/1.30G [00:04<00:24, 49.5MB/s]\u001b[A\n",
            " 15%|█▌        | 201M/1.30G [00:04<00:24, 47.6MB/s]\u001b[A\n",
            " 16%|█▌        | 208M/1.30G [00:04<00:22, 52.5MB/s]\u001b[A\n",
            " 16%|█▌        | 214M/1.30G [00:04<00:22, 52.7MB/s]\u001b[A\n",
            " 17%|█▋        | 220M/1.30G [00:04<00:24, 48.0MB/s]\u001b[A\n",
            " 17%|█▋        | 225M/1.30G [00:04<00:24, 47.0MB/s]\u001b[A\n",
            " 17%|█▋        | 232M/1.30G [00:04<00:22, 52.0MB/s]\u001b[A\n",
            " 18%|█▊        | 238M/1.30G [00:05<00:21, 53.5MB/s]\u001b[A\n",
            " 18%|█▊        | 244M/1.30G [00:05<00:20, 55.3MB/s]\u001b[A\n",
            " 19%|█▉        | 250M/1.30G [00:05<00:20, 54.8MB/s]\u001b[A\n",
            " 19%|█▉        | 256M/1.30G [00:05<00:20, 56.1MB/s]\u001b[A\n",
            " 20%|█▉        | 263M/1.30G [00:05<00:18, 59.1MB/s]\u001b[A\n",
            " 20%|██        | 269M/1.30G [00:05<00:18, 58.5MB/s]\u001b[A\n",
            " 21%|██        | 276M/1.30G [00:05<00:18, 60.0MB/s]\u001b[A\n",
            " 21%|██        | 282M/1.30G [00:05<00:20, 54.5MB/s]\u001b[A\n",
            " 22%|██▏       | 288M/1.30G [00:05<00:19, 55.7MB/s]\u001b[A\n",
            " 22%|██▏       | 295M/1.30G [00:06<00:18, 58.5MB/s]\u001b[A\n",
            " 23%|██▎       | 303M/1.30G [00:06<00:17, 62.4MB/s]\u001b[A\n",
            " 23%|██▎       | 309M/1.30G [00:06<00:17, 60.4MB/s]\u001b[A\n",
            " 24%|██▎       | 315M/1.30G [00:06<00:18, 57.1MB/s]\u001b[A\n",
            " 24%|██▍       | 321M/1.30G [00:06<00:20, 50.9MB/s]\u001b[A\n",
            " 25%|██▍       | 328M/1.30G [00:06<00:19, 54.9MB/s]\u001b[A\n",
            " 25%|██▌       | 334M/1.30G [00:06<00:20, 51.5MB/s]\u001b[A\n",
            " 26%|██▌       | 340M/1.30G [00:06<00:19, 52.6MB/s]\u001b[A\n",
            " 26%|██▌       | 346M/1.30G [00:07<00:19, 51.5MB/s]\u001b[A\n",
            " 26%|██▋       | 352M/1.30G [00:07<00:19, 53.4MB/s]\u001b[A\n",
            " 27%|██▋       | 359M/1.30G [00:07<00:17, 57.1MB/s]\u001b[A\n",
            " 27%|██▋       | 365M/1.30G [00:07<00:17, 56.2MB/s]\u001b[A\n",
            " 28%|██▊       | 371M/1.30G [00:07<00:17, 55.9MB/s]\u001b[A\n",
            " 28%|██▊       | 377M/1.30G [00:07<00:18, 53.7MB/s]\u001b[A\n",
            " 29%|██▉       | 384M/1.30G [00:07<00:17, 57.1MB/s]\u001b[A\n",
            " 29%|██▉       | 390M/1.30G [00:07<00:18, 54.5MB/s]\u001b[A\n",
            " 30%|██▉       | 396M/1.30G [00:08<00:20, 47.4MB/s]\u001b[A\n",
            " 30%|███       | 401M/1.30G [00:08<00:25, 37.6MB/s]\u001b[A\n",
            " 31%|███       | 408M/1.30G [00:08<00:21, 44.1MB/s]\u001b[A\n",
            " 31%|███       | 415M/1.30G [00:08<00:19, 49.4MB/s]\u001b[A\n",
            " 32%|███▏      | 421M/1.30G [00:08<00:18, 51.7MB/s]\u001b[A\n",
            " 32%|███▏      | 427M/1.30G [00:08<00:18, 51.7MB/s]\u001b[A\n",
            " 33%|███▎      | 433M/1.30G [00:08<00:20, 46.9MB/s]\u001b[A\n",
            " 33%|███▎      | 440M/1.30G [00:09<00:18, 51.8MB/s]\u001b[A\n",
            " 34%|███▎      | 446M/1.30G [00:09<00:17, 53.8MB/s]\u001b[A\n",
            " 34%|███▍      | 452M/1.30G [00:09<00:17, 53.1MB/s]\u001b[A\n",
            " 34%|███▍      | 458M/1.30G [00:09<00:16, 54.4MB/s]\u001b[A\n",
            " 35%|███▍      | 464M/1.30G [00:09<00:16, 55.7MB/s]\u001b[A\n",
            " 35%|███▌      | 471M/1.30G [00:09<00:15, 58.6MB/s]\u001b[A\n",
            " 36%|███▌      | 477M/1.30G [00:09<00:15, 59.5MB/s]\u001b[A\n",
            " 36%|███▋      | 484M/1.30G [00:09<00:14, 60.5MB/s]\u001b[A\n",
            " 37%|███▋      | 491M/1.30G [00:09<00:14, 62.1MB/s]\u001b[A\n",
            " 37%|███▋      | 498M/1.30G [00:10<00:13, 63.2MB/s]\u001b[A\n",
            " 38%|███▊      | 505M/1.30G [00:10<00:13, 62.8MB/s]\u001b[A\n",
            " 39%|███▊      | 512M/1.30G [00:10<00:13, 61.4MB/s]\u001b[A\n",
            " 39%|███▉      | 518M/1.30G [00:10<00:13, 61.3MB/s]\u001b[A\n",
            " 39%|███▉      | 524M/1.30G [00:10<00:15, 55.0MB/s]\u001b[A\n",
            " 40%|████      | 532M/1.30G [00:10<00:14, 56.7MB/s]\u001b[A\n",
            " 41%|████      | 540M/1.30G [00:10<00:14, 57.9MB/s]\u001b[A\n",
            " 41%|████      | 547M/1.30G [00:10<00:13, 60.0MB/s]\u001b[A\n",
            " 42%|████▏     | 555M/1.30G [00:11<00:12, 63.4MB/s]\u001b[A\n",
            " 42%|████▏     | 562M/1.30G [00:11<00:12, 64.1MB/s]\u001b[A\n",
            " 43%|████▎     | 569M/1.30G [00:11<00:12, 61.4MB/s]\u001b[A\n",
            " 43%|████▎     | 576M/1.30G [00:11<00:12, 60.9MB/s]\u001b[A\n",
            " 44%|████▍     | 584M/1.30G [00:11<00:12, 60.8MB/s]\u001b[A\n",
            " 44%|████▍     | 590M/1.30G [00:11<00:12, 61.2MB/s]\u001b[A\n",
            " 45%|████▍     | 596M/1.30G [00:11<00:13, 58.7MB/s]\u001b[A\n",
            " 45%|████▌     | 603M/1.30G [00:11<00:12, 60.7MB/s]\u001b[A\n",
            " 46%|████▌     | 609M/1.30G [00:12<00:14, 53.8MB/s]\u001b[A\n",
            " 46%|████▋     | 616M/1.30G [00:12<00:13, 57.1MB/s]\u001b[A\n",
            " 47%|████▋     | 622M/1.30G [00:12<00:14, 51.7MB/s]\u001b[A\n",
            " 47%|████▋     | 628M/1.30G [00:12<00:14, 51.2MB/s]\u001b[A\n",
            " 48%|████▊     | 633M/1.30G [00:12<00:18, 40.2MB/s]\u001b[A\n",
            " 48%|████▊     | 640M/1.30G [00:12<00:15, 46.3MB/s]\u001b[A\n",
            " 49%|████▊     | 647M/1.30G [00:12<00:13, 51.2MB/s]\u001b[A\n",
            " 49%|████▉     | 653M/1.30G [00:12<00:13, 52.4MB/s]\u001b[A\n",
            " 50%|████▉     | 661M/1.30G [00:13<00:12, 55.9MB/s]\u001b[A\n",
            " 50%|█████     | 668M/1.30G [00:13<00:12, 56.9MB/s]\u001b[A\n",
            " 51%|█████     | 675M/1.30G [00:13<00:11, 60.5MB/s]\u001b[A\n",
            " 51%|█████▏    | 681M/1.30G [00:13<00:12, 55.9MB/s]\u001b[A\n",
            " 52%|█████▏    | 688M/1.30G [00:13<00:11, 58.6MB/s]\u001b[A\n",
            " 52%|█████▏    | 694M/1.30G [00:13<00:11, 59.5MB/s]\u001b[A\n",
            " 53%|█████▎    | 700M/1.30G [00:13<00:12, 52.1MB/s]\u001b[A\n",
            " 53%|█████▎    | 706M/1.30G [00:13<00:12, 50.7MB/s]\u001b[A\n",
            " 54%|█████▎    | 712M/1.30G [00:14<00:12, 52.9MB/s]\u001b[A\n",
            " 54%|█████▍    | 719M/1.30G [00:14<00:11, 56.5MB/s]\u001b[A\n",
            " 55%|█████▍    | 727M/1.30G [00:14<00:10, 61.1MB/s]\u001b[A\n",
            " 55%|█████▌    | 734M/1.30G [00:14<00:09, 62.4MB/s]\u001b[A\n",
            " 56%|█████▌    | 741M/1.30G [00:14<00:10, 58.2MB/s]\u001b[A\n",
            " 56%|█████▌    | 747M/1.30G [00:14<00:10, 57.6MB/s]\u001b[A\n",
            " 57%|█████▋    | 753M/1.30G [00:14<00:11, 52.3MB/s]\u001b[A\n",
            " 57%|█████▋    | 760M/1.30G [00:14<00:10, 56.0MB/s]\u001b[A\n",
            " 58%|█████▊    | 767M/1.30G [00:15<00:10, 58.7MB/s]\u001b[A\n",
            " 58%|█████▊    | 774M/1.30G [00:15<00:09, 62.5MB/s]\u001b[A\n",
            " 59%|█████▉    | 781M/1.30G [00:15<00:09, 59.9MB/s]\u001b[A\n",
            " 59%|█████▉    | 788M/1.30G [00:15<00:09, 60.4MB/s]\u001b[A\n",
            " 60%|█████▉    | 795M/1.30G [00:15<00:08, 63.5MB/s]\u001b[A\n",
            " 60%|██████    | 802M/1.30G [00:15<00:09, 60.1MB/s]\u001b[A\n",
            " 61%|██████    | 808M/1.30G [00:15<00:09, 59.8MB/s]\u001b[A\n",
            " 61%|██████▏   | 815M/1.30G [00:15<00:08, 61.6MB/s]\u001b[A\n",
            " 62%|██████▏   | 821M/1.30G [00:15<00:08, 61.6MB/s]\u001b[A\n",
            " 62%|██████▏   | 828M/1.30G [00:16<00:08, 60.8MB/s]\u001b[A\n",
            " 63%|██████▎   | 834M/1.30G [00:16<00:08, 59.8MB/s]\u001b[A\n",
            " 63%|██████▎   | 841M/1.30G [00:16<00:08, 59.8MB/s]\u001b[A\n",
            " 64%|██████▍   | 848M/1.30G [00:16<00:08, 61.6MB/s]\u001b[A\n",
            " 64%|██████▍   | 854M/1.30G [00:16<00:08, 60.5MB/s]\u001b[A\n",
            " 65%|██████▍   | 860M/1.30G [00:16<00:08, 57.3MB/s]\u001b[A\n",
            " 65%|██████▌   | 867M/1.30G [00:16<00:08, 59.8MB/s]\u001b[A\n",
            " 66%|██████▌   | 873M/1.30G [00:16<00:09, 50.9MB/s]\u001b[A\n",
            " 66%|██████▌   | 879M/1.30G [00:17<00:09, 52.1MB/s]\u001b[A\n",
            " 67%|██████▋   | 885M/1.30G [00:17<00:08, 53.9MB/s]\u001b[A\n",
            " 67%|██████▋   | 892M/1.30G [00:17<00:08, 56.1MB/s]\u001b[A\n",
            " 68%|██████▊   | 898M/1.30G [00:17<00:07, 56.9MB/s]\u001b[A\n",
            " 68%|██████▊   | 904M/1.30G [00:17<00:07, 57.7MB/s]\u001b[A\n",
            " 69%|██████▊   | 910M/1.30G [00:17<00:07, 56.8MB/s]\u001b[A\n",
            " 69%|██████▉   | 916M/1.30G [00:17<00:08, 48.7MB/s]\u001b[A\n",
            " 70%|██████▉   | 924M/1.30G [00:17<00:08, 52.1MB/s]\u001b[A\n",
            " 70%|███████   | 931M/1.30G [00:18<00:07, 55.7MB/s]\u001b[A\n",
            " 71%|███████   | 939M/1.30G [00:18<00:06, 59.8MB/s]\u001b[A\n",
            " 71%|███████   | 946M/1.30G [00:18<00:06, 62.0MB/s]\u001b[A\n",
            " 72%|███████▏  | 953M/1.30G [00:18<00:06, 60.7MB/s]\u001b[A\n",
            " 72%|███████▏  | 960M/1.30G [00:18<00:06, 62.2MB/s]\u001b[A\n",
            " 73%|███████▎  | 966M/1.30G [00:18<00:06, 62.1MB/s]\u001b[A\n",
            " 73%|███████▎  | 972M/1.30G [00:18<00:06, 56.9MB/s]\u001b[A\n",
            " 74%|███████▎  | 979M/1.30G [00:18<00:06, 61.0MB/s]\u001b[A\n",
            " 74%|███████▍  | 985M/1.30G [00:19<00:07, 51.3MB/s]\u001b[A\n",
            " 75%|███████▍  | 992M/1.30G [00:19<00:06, 55.2MB/s]\u001b[A\n",
            " 75%|███████▌  | 998M/1.30G [00:19<00:06, 53.3MB/s]\u001b[A\n",
            " 76%|███████▌  | 0.98G/1.30G [00:19<00:07, 45.8MB/s]\u001b[A\n",
            " 76%|███████▌  | 0.99G/1.30G [00:19<00:06, 52.6MB/s]\u001b[A\n",
            " 77%|███████▋  | 1.00G/1.30G [00:19<00:05, 56.0MB/s]\u001b[A\n",
            " 77%|███████▋  | 1.00G/1.30G [00:19<00:05, 57.0MB/s]\u001b[A\n",
            " 78%|███████▊  | 1.01G/1.30G [00:19<00:05, 58.7MB/s]\u001b[A\n",
            " 78%|███████▊  | 1.01G/1.30G [00:19<00:04, 61.5MB/s]\u001b[A\n",
            " 79%|███████▊  | 1.02G/1.30G [00:20<00:05, 54.6MB/s]\u001b[A\n",
            " 79%|███████▉  | 1.03G/1.30G [00:20<00:05, 54.9MB/s]\u001b[A\n",
            " 80%|███████▉  | 1.04G/1.30G [00:20<00:04, 57.8MB/s]\u001b[A\n",
            " 80%|████████  | 1.04G/1.30G [00:20<00:04, 58.1MB/s]\u001b[A\n",
            " 81%|████████  | 1.05G/1.30G [00:20<00:04, 58.3MB/s]\u001b[A\n",
            " 81%|████████  | 1.05G/1.30G [00:20<00:04, 60.6MB/s]\u001b[A\n",
            " 82%|████████▏ | 1.06G/1.30G [00:20<00:04, 56.9MB/s]\u001b[A\n",
            " 82%|████████▏ | 1.07G/1.30G [00:20<00:04, 58.2MB/s]\u001b[A\n",
            " 83%|████████▎ | 1.07G/1.30G [00:21<00:04, 59.4MB/s]\u001b[A\n",
            " 83%|████████▎ | 1.08G/1.30G [00:21<00:03, 59.2MB/s]\u001b[A\n",
            " 84%|████████▍ | 1.09G/1.30G [00:21<00:04, 50.2MB/s]\u001b[A\n",
            " 84%|████████▍ | 1.09G/1.30G [00:21<00:04, 52.3MB/s]\u001b[A\n",
            " 85%|████████▍ | 1.10G/1.30G [00:21<00:03, 55.8MB/s]\u001b[A\n",
            " 85%|████████▌ | 1.11G/1.30G [00:21<00:03, 55.7MB/s]\u001b[A\n",
            " 86%|████████▌ | 1.11G/1.30G [00:21<00:03, 56.1MB/s]\u001b[A\n",
            " 86%|████████▌ | 1.12G/1.30G [00:22<00:03, 49.9MB/s]\u001b[A\n",
            " 87%|████████▋ | 1.12G/1.30G [00:22<00:03, 54.1MB/s]\u001b[A\n",
            " 87%|████████▋ | 1.13G/1.30G [00:22<00:03, 57.4MB/s]\u001b[A\n",
            " 88%|████████▊ | 1.14G/1.30G [00:22<00:03, 56.6MB/s]\u001b[A\n",
            " 88%|████████▊ | 1.14G/1.30G [00:22<00:03, 49.6MB/s]\u001b[A\n",
            " 89%|████████▊ | 1.15G/1.30G [00:22<00:02, 55.2MB/s]\u001b[A\n",
            " 89%|████████▉ | 1.16G/1.30G [00:22<00:02, 55.5MB/s]\u001b[A\n",
            " 90%|████████▉ | 1.16G/1.30G [00:22<00:02, 59.5MB/s]\u001b[A\n",
            " 90%|█████████ | 1.17G/1.30G [00:22<00:02, 59.6MB/s]\u001b[A\n",
            " 91%|█████████ | 1.17G/1.30G [00:23<00:02, 58.2MB/s]\u001b[A\n",
            " 91%|█████████ | 1.18G/1.30G [00:23<00:01, 62.3MB/s]\u001b[A\n",
            " 92%|█████████▏| 1.19G/1.30G [00:23<00:01, 61.1MB/s]\u001b[A\n",
            " 92%|█████████▏| 1.20G/1.30G [00:23<00:01, 60.2MB/s]\u001b[A\n",
            " 93%|█████████▎| 1.20G/1.30G [00:23<00:01, 61.7MB/s]\u001b[A\n",
            " 93%|█████████▎| 1.21G/1.30G [00:23<00:01, 62.9MB/s]\u001b[A\n",
            " 94%|█████████▍| 1.22G/1.30G [00:23<00:01, 50.7MB/s]\u001b[A\n",
            " 94%|█████████▍| 1.22G/1.30G [00:23<00:01, 52.4MB/s]\u001b[A\n",
            " 95%|█████████▍| 1.23G/1.30G [00:24<00:01, 55.9MB/s]\u001b[A\n",
            " 95%|█████████▌| 1.24G/1.30G [00:24<00:01, 56.0MB/s]\u001b[A\n",
            " 96%|█████████▌| 1.24G/1.30G [00:24<00:01, 58.8MB/s]\u001b[A\n",
            " 96%|█████████▋| 1.25G/1.30G [00:24<00:00, 60.8MB/s]\u001b[A\n",
            " 97%|█████████▋| 1.25G/1.30G [00:24<00:00, 51.6MB/s]\u001b[A\n",
            " 97%|█████████▋| 1.26G/1.30G [00:24<00:00, 47.2MB/s]\u001b[A\n",
            " 98%|█████████▊| 1.27G/1.30G [00:24<00:00, 48.0MB/s]\u001b[A\n",
            " 98%|█████████▊| 1.27G/1.30G [00:24<00:00, 53.1MB/s]\u001b[A\n",
            " 99%|█████████▊| 1.28G/1.30G [00:25<00:00, 48.0MB/s]\u001b[A\n",
            " 99%|█████████▉| 1.28G/1.30G [00:25<00:00, 47.7MB/s]\u001b[A\n",
            " 99%|█████████▉| 1.29G/1.30G [00:25<00:00, 50.6MB/s]\u001b[A\n",
            "100%|██████████| 1.30G/1.30G [00:25<00:00, 54.6MB/s]\n"
          ]
        },
        {
          "output_type": "error",
          "ename": "FileNotFoundError",
          "evalue": "Model file not found at ./model_0/1/model_0.keras",
          "traceback": [
            "\u001b[0;31m---------------------------------------------------------------------------\u001b[0m",
            "\u001b[0;31mFileNotFoundError\u001b[0m                         Traceback (most recent call last)",
            "\u001b[0;32m<ipython-input-128-64d62662510d>\u001b[0m in \u001b[0;36m<cell line: 13>\u001b[0;34m()\u001b[0m\n\u001b[1;32m     12\u001b[0m \u001b[0;31m# Verify the file exists\u001b[0m\u001b[0;34m\u001b[0m\u001b[0;34m\u001b[0m\u001b[0m\n\u001b[1;32m     13\u001b[0m \u001b[0;32mif\u001b[0m \u001b[0;32mnot\u001b[0m \u001b[0mos\u001b[0m\u001b[0;34m.\u001b[0m\u001b[0mpath\u001b[0m\u001b[0;34m.\u001b[0m\u001b[0mexists\u001b[0m\u001b[0;34m(\u001b[0m\u001b[0mmodel_0_file\u001b[0m\u001b[0;34m)\u001b[0m\u001b[0;34m:\u001b[0m\u001b[0;34m\u001b[0m\u001b[0;34m\u001b[0m\u001b[0m\n\u001b[0;32m---> 14\u001b[0;31m     \u001b[0;32mraise\u001b[0m \u001b[0mFileNotFoundError\u001b[0m\u001b[0;34m(\u001b[0m\u001b[0;34mf\"Model file not found at {model_0_file}\"\u001b[0m\u001b[0;34m)\u001b[0m\u001b[0;34m\u001b[0m\u001b[0;34m\u001b[0m\u001b[0m\n\u001b[0m\u001b[1;32m     15\u001b[0m \u001b[0;34m\u001b[0m\u001b[0m\n\u001b[1;32m     16\u001b[0m \u001b[0mprint\u001b[0m\u001b[0;34m(\u001b[0m\u001b[0;34mf\"Model file located at: {model_0_file}\"\u001b[0m\u001b[0;34m)\u001b[0m\u001b[0;34m\u001b[0m\u001b[0;34m\u001b[0m\u001b[0m\n",
            "\u001b[0;31mFileNotFoundError\u001b[0m: Model file not found at ./model_0/1/model_0.keras"
          ]
        }
      ]
    },
    {
      "cell_type": "code",
      "source": [
        "# 1. Create a model\n",
        "model_0_loaded_kaggle = create_model(num_classes=len(class_names), trainable=False)\n",
        "\n",
        "# 2. Compile the model\n",
        "model_0_loaded_kaggle.compile(optimizer=tf_keras.optimizers.Adam(learning_rate=0.001),\n",
        "                loss=tf_keras.losses.CategoricalCrossentropy(from_logits=False),  # use from_logits=False if using an activation function in final layer\n",
        "                metrics=[\"accuracy\"])\n",
        "\n",
        "# Load the weights\n",
        "model_0_loaded_kaggle.load_weights('/content/model_0/model_0_weights_not_fine_tuened.keras')\n",
        "\n",
        "loaded_model_results = model_0_loaded_kaggle.evaluate(test_ds)"
      ],
      "metadata": {
        "colab": {
          "base_uri": "https://localhost:8080/"
        },
        "id": "LthCK5K4fSks",
        "outputId": "d2b5da30-625e-43cf-d081-beef9e67043d"
      },
      "execution_count": 129,
      "outputs": [
        {
          "output_type": "stream",
          "name": "stdout",
          "text": [
            "40/40 [==============================] - 31s 606ms/step - loss: 0.4378 - accuracy: 0.8243\n"
          ]
        }
      ]
    },
    {
      "cell_type": "markdown",
      "source": [
        "## Training model (Fine Tuned)"
      ],
      "metadata": {
        "id": "ot0UX7C-qLc2"
      }
    },
    {
      "cell_type": "code",
      "source": [
        "# 1. Create a model\n",
        "model_0 = create_model(num_classes=len(class_names), trainable=True)\n",
        "\n",
        "count_parameters(model=model_0, print_output=True)\n",
        "\n",
        "# 2. Compile the model\n",
        "model_0.compile(optimizer=tf_keras.optimizers.Adam(learning_rate=0.001),\n",
        "                loss=tf_keras.losses.CategoricalCrossentropy(from_logits=False),  # use from_logits=False if using an activation function in final layer\n",
        "                metrics=[\"accuracy\"])\n",
        "\n",
        "# Define the EarlyStopping callback\n",
        "early_stopping = tf_keras.callbacks.EarlyStopping(\n",
        "    monitor='val_accuracy',  # Metric to monitor for early stopping\n",
        "    patience=5,              # Number of epochs with no improvement before stopping\n",
        "    restore_best_weights=True  # Restore model weights from the epoch with the best value of the monitored quantity\n",
        ")\n",
        "\n",
        "# 3. Fit the model\n",
        "epochs = 1000\n",
        "history_0 = model_0.fit(\n",
        "    x=train_ds,\n",
        "    epochs=epochs,\n",
        "    validation_data=test_ds,\n",
        "    callbacks=[early_stopping]\n",
        ")\n",
        "\n",
        "# Save the weights as a .keras file\n",
        "weights_save_path = \"model_0_weights_fine_tuened.keras\"\n",
        "\n",
        "# Save only the weights\n",
        "model_0.save_weights(weights_save_path, save_format=\"h5\")\n",
        "print(f\"Weights saved to {weights_save_path}\")"
      ],
      "metadata": {
        "colab": {
          "base_uri": "https://localhost:8080/"
        },
        "id": "vmv_ZCtwp0_z",
        "outputId": "9f0a9e56-7c2e-4deb-9924-236a0c9a4073"
      },
      "execution_count": 14,
      "outputs": [
        {
          "output_type": "stream",
          "name": "stdout",
          "text": [
            "Downloading data from https://storage.googleapis.com/tensorflow/keras-applications/convnext/convnext_xlarge_notop.h5\n",
            "1393257616/1393257616 [==============================] - 6s 0us/step\n",
            "Model model parameter counts:\n",
            "Total parameters: 348154115.0\n",
            "Trainable parameters: 348154115\n",
            "Non-trainable parameters: 0.0\n",
            "Epoch 1/1000\n",
            "101/101 [==============================] - 132s 714ms/step - loss: 1.0756 - accuracy: 0.4854 - val_loss: 1.1926 - val_accuracy: 0.7295\n",
            "Epoch 2/1000\n",
            "101/101 [==============================] - 57s 562ms/step - loss: 0.5445 - accuracy: 0.7787 - val_loss: 0.3968 - val_accuracy: 0.8321\n",
            "Epoch 3/1000\n",
            "101/101 [==============================] - 56s 555ms/step - loss: 0.4131 - accuracy: 0.8333 - val_loss: 0.4325 - val_accuracy: 0.8051\n",
            "Epoch 4/1000\n",
            "101/101 [==============================] - 57s 562ms/step - loss: 0.3813 - accuracy: 0.8436 - val_loss: 0.3578 - val_accuracy: 0.8372\n",
            "Epoch 5/1000\n",
            "101/101 [==============================] - 57s 562ms/step - loss: 0.3595 - accuracy: 0.8464 - val_loss: 0.3366 - val_accuracy: 0.8692\n",
            "Epoch 6/1000\n",
            "101/101 [==============================] - 56s 555ms/step - loss: 0.3480 - accuracy: 0.8551 - val_loss: 0.4452 - val_accuracy: 0.8000\n",
            "Epoch 7/1000\n",
            "101/101 [==============================] - 56s 555ms/step - loss: 0.3495 - accuracy: 0.8526 - val_loss: 0.3281 - val_accuracy: 0.8551\n",
            "Epoch 8/1000\n",
            "101/101 [==============================] - 56s 556ms/step - loss: 0.3151 - accuracy: 0.8687 - val_loss: 0.4070 - val_accuracy: 0.8474\n",
            "Epoch 9/1000\n",
            "101/101 [==============================] - 56s 555ms/step - loss: 0.3250 - accuracy: 0.8644 - val_loss: 0.3608 - val_accuracy: 0.8577\n",
            "Epoch 10/1000\n",
            "101/101 [==============================] - 56s 555ms/step - loss: 0.3184 - accuracy: 0.8678 - val_loss: 0.3298 - val_accuracy: 0.8692\n",
            "Weights saved to model_0_weights_fine_tuened.keras\n"
          ]
        }
      ]
    },
    {
      "cell_type": "code",
      "source": [
        "def plot_model_loss_curves(history: tf.keras.callbacks.History) -> None:\n",
        "  \"\"\"Takes a History object and plots loss and accuracy curves.\"\"\"\n",
        "\n",
        "  # Get the accuracy values\n",
        "  acc = history.history[\"accuracy\"]\n",
        "  val_acc = history.history[\"val_accuracy\"]\n",
        "\n",
        "  # Get the loss values\n",
        "  loss = history.history[\"loss\"]\n",
        "  val_loss = history.history[\"val_loss\"]\n",
        "\n",
        "  # Get the number of epochs\n",
        "  epochs_range = range(len(acc))\n",
        "\n",
        "  # Create accuracy curves plot\n",
        "  plt.figure(figsize=(14, 7))\n",
        "  plt.subplot(1, 2, 1)\n",
        "  plt.plot(epochs_range, acc, label=\"Training Accuracy\")\n",
        "  plt.plot(epochs_range, val_acc, label=\"Validation Accuracy\")\n",
        "  plt.legend(loc=\"lower right\")\n",
        "  plt.title(\"Training and Validation Accuracy\")\n",
        "  plt.xlabel(\"Epoch\")\n",
        "  plt.ylabel(\"Accuracy\")\n",
        "\n",
        "  # Create loss curves plot\n",
        "  plt.subplot(1, 2, 2)\n",
        "  plt.plot(epochs_range, loss, label=\"Training Loss\")\n",
        "  plt.plot(epochs_range, val_loss, label=\"Validation Loss\")\n",
        "  plt.legend(loc=\"upper right\")\n",
        "  plt.title(\"Training and Validation Loss\")\n",
        "  plt.xlabel(\"Epoch\")\n",
        "  plt.ylabel(\"Loss\")\n",
        "\n",
        "  plt.show()\n",
        "\n",
        "plot_model_loss_curves(history=history_0)"
      ],
      "metadata": {
        "colab": {
          "base_uri": "https://localhost:8080/",
          "height": 629
        },
        "id": "mdoJih1RKr-w",
        "outputId": "8d5149cb-fba1-401c-f47f-12e8297a22af"
      },
      "execution_count": 18,
      "outputs": [
        {
          "output_type": "display_data",
          "data": {
            "text/plain": [
              "<Figure size 1400x700 with 2 Axes>"
            ],
            "image/png": "[encoded data removed]"
          },
          "metadata": {}
        }
      ]
    },
    {
      "cell_type": "markdown",
      "source": [
        "## Load and test fine-tuned model"
      ],
      "metadata": {
        "id": "OPh3o47dJ8eN"
      }
    },
    {
      "cell_type": "code",
      "source": [
        "# Download the model from Kaggle\n",
        "model_0_loaded_path = kagglehub.model_download(\"sulimantadros/trend-convnextxlarge-fine-tuned-weights-only/other/default\")\n",
        "\n",
        "# Move the downloaded directory to the current directory\n",
        "destination_dir = \"./model_0\"\n",
        "if not os.path.exists(destination_dir):\n",
        "    shutil.move(model_0_loaded_path, destination_dir)\n",
        "\n",
        "# Full path to the .keras model file\n",
        "model_0_file = os.path.join(destination_dir, \"1\", \"model_0.keras\")"
      ],
      "metadata": {
        "colab": {
          "base_uri": "https://localhost:8080/",
          "height": 1000,
          "referenced_widgets": [
            "87a9575253fd4c4895ac224e542cd09d",
            "a4417ed387d74f4fb0a210fda090a765",
            "bed5568b061f417e901142fcc9877140",
            "600d9f1ff5ac405abe3ee5772f818b20",
            "57dbd62c71eb4de280cb31748dab1c78",
            "ac2d93d1297548c2b813e11cd0558d88",
            "ec3b4edec62f4be49871eebf15fd8562",
            "d37f5b64d72248499f21b6a59a4cc84c",
            "97bb078fb0814356872bb906aba793ad",
            "dc64920b5e0e4edbbfed40fafbed994f",
            "9a9d8d68422a41be8a4e227af2ccbcac"
          ]
        },
        "id": "ooUL4UIwJ7bD",
        "outputId": "c11e54b4-3f22-41d0-ea73-1679354f3142"
      },
      "execution_count": 15,
      "outputs": [
        {
          "output_type": "display_data",
          "data": {
            "text/plain": [
              "Downloading 1 files:   0%|          | 0/1 [00:00<?, ?it/s]"
            ],
            "application/vnd.jupyter.widget-view+json": {
              "version_major": 2,
              "version_minor": 0,
              "model_id": "87a9575253fd4c4895ac224e542cd09d"
            }
          },
          "metadata": {}
        },
        {
          "output_type": "stream",
          "name": "stdout",
          "text": [
            "Downloading from https://www.kaggle.com/api/v1/models/sulimantadros/trend-convnextxlarge-fine-tuned-weights-only/other/default/1/download/model_0_weights_fine_tuened.keras...\n"
          ]
        },
        {
          "output_type": "stream",
          "name": "stderr",
          "text": [
            "\n",
            "  0%|          | 0.00/1.30G [00:00<?, ?B/s]\u001b[A\n",
            "  0%|          | 1.00M/1.30G [00:00<04:02, 5.73MB/s]\u001b[A\n",
            "  1%|          | 9.00M/1.30G [00:00<00:35, 38.6MB/s]\u001b[A\n",
            "  1%|▏         | 17.0M/1.30G [00:00<00:28, 48.3MB/s]\u001b[A\n",
            "  2%|▏         | 23.0M/1.30G [00:00<00:26, 52.1MB/s]\u001b[A\n",
            "  2%|▏         | 29.0M/1.30G [00:00<00:28, 47.7MB/s]\u001b[A\n",
            "  3%|▎         | 35.0M/1.30G [00:00<00:31, 43.4MB/s]\u001b[A\n",
            "  3%|▎         | 41.0M/1.30G [00:00<00:28, 47.1MB/s]\u001b[A\n",
            "  4%|▎         | 49.0M/1.30G [00:01<00:27, 49.7MB/s]\u001b[A\n",
            "  4%|▍         | 57.0M/1.30G [00:01<00:26, 49.7MB/s]\u001b[A\n",
            "  5%|▍         | 65.0M/1.30G [00:01<00:25, 52.8MB/s]\u001b[A\n",
            "  5%|▌         | 73.0M/1.30G [00:01<00:22, 58.0MB/s]\u001b[A\n",
            "  6%|▌         | 81.0M/1.30G [00:01<00:24, 54.4MB/s]\u001b[A\n",
            "  7%|▋         | 89.0M/1.30G [00:01<00:23, 55.0MB/s]\u001b[A\n",
            "  7%|▋         | 99.0M/1.30G [00:01<00:19, 66.0MB/s]\u001b[A\n",
            "  8%|▊         | 106M/1.30G [00:02<00:19, 66.7MB/s] \u001b[A\n",
            "  9%|▉         | 118M/1.30G [00:02<00:15, 81.4MB/s]\u001b[A\n",
            " 10%|▉         | 128M/1.30G [00:02<00:14, 85.5MB/s]\u001b[A\n",
            " 10%|█         | 137M/1.30G [00:02<00:15, 78.3MB/s]\u001b[A\n",
            " 11%|█         | 145M/1.30G [00:02<00:18, 67.4MB/s]\u001b[A\n",
            " 12%|█▏        | 153M/1.30G [00:02<00:21, 58.2MB/s]\u001b[A\n",
            " 12%|█▏        | 161M/1.30G [00:02<00:20, 61.0MB/s]\u001b[A\n",
            " 13%|█▎        | 169M/1.30G [00:03<00:19, 63.1MB/s]\u001b[A\n",
            " 13%|█▎        | 177M/1.30G [00:03<00:17, 67.2MB/s]\u001b[A\n",
            " 14%|█▍        | 188M/1.30G [00:03<00:15, 75.8MB/s]\u001b[A\n",
            " 15%|█▌        | 200M/1.30G [00:03<00:13, 88.4MB/s]\u001b[A\n",
            " 16%|█▌        | 209M/1.30G [00:03<00:13, 86.4MB/s]\u001b[A\n",
            " 17%|█▋        | 220M/1.30G [00:03<00:12, 93.1MB/s]\u001b[A\n",
            " 18%|█▊        | 233M/1.30G [00:03<00:11, 104MB/s] \u001b[A\n",
            " 18%|█▊        | 245M/1.30G [00:03<00:10, 108MB/s]\u001b[A\n",
            " 19%|█▉        | 256M/1.30G [00:03<00:11, 99.0MB/s]\u001b[A\n",
            " 20%|██        | 266M/1.30G [00:04<00:11, 96.2MB/s]\u001b[A\n",
            " 21%|██        | 276M/1.30G [00:04<00:13, 82.5MB/s]\u001b[A\n",
            " 21%|██▏       | 285M/1.30G [00:04<00:21, 50.5MB/s]\u001b[A\n",
            " 22%|██▏       | 297M/1.30G [00:04<00:17, 62.1MB/s]\u001b[A\n",
            " 23%|██▎       | 309M/1.30G [00:04<00:14, 74.1MB/s]\u001b[A\n",
            " 24%|██▍       | 318M/1.30G [00:04<00:14, 74.9MB/s]\u001b[A\n",
            " 25%|██▍       | 328M/1.30G [00:05<00:13, 78.4MB/s]\u001b[A\n",
            " 25%|██▌       | 338M/1.30G [00:05<00:12, 82.4MB/s]\u001b[A\n",
            " 26%|██▋       | 350M/1.30G [00:05<00:11, 92.7MB/s]\u001b[A\n",
            " 27%|██▋       | 362M/1.30G [00:05<00:10, 101MB/s] \u001b[A\n",
            " 28%|██▊       | 373M/1.30G [00:05<00:09, 103MB/s]\u001b[A\n",
            " 29%|██▉       | 385M/1.30G [00:05<00:10, 98.8MB/s]\u001b[A\n",
            " 30%|██▉       | 396M/1.30G [00:05<00:09, 102MB/s] \u001b[A\n",
            " 31%|███       | 407M/1.30G [00:05<00:09, 98.2MB/s]\u001b[A\n",
            " 31%|███▏      | 417M/1.30G [00:05<00:09, 98.2MB/s]\u001b[A\n",
            " 32%|███▏      | 427M/1.30G [00:06<00:10, 93.5MB/s]\u001b[A\n",
            " 33%|███▎      | 437M/1.30G [00:06<00:10, 92.6MB/s]\u001b[A\n",
            " 34%|███▍      | 449M/1.30G [00:06<00:10, 89.5MB/s]\u001b[A\n",
            " 34%|███▍      | 458M/1.30G [00:06<00:10, 87.5MB/s]\u001b[A\n",
            " 35%|███▌      | 467M/1.30G [00:06<00:10, 86.6MB/s]\u001b[A\n",
            " 36%|███▌      | 477M/1.30G [00:06<00:09, 90.4MB/s]\u001b[A\n",
            " 37%|███▋      | 488M/1.30G [00:06<00:09, 96.2MB/s]\u001b[A\n",
            " 37%|███▋      | 498M/1.30G [00:06<00:09, 92.4MB/s]\u001b[A\n",
            " 38%|███▊      | 507M/1.30G [00:07<00:09, 92.4MB/s]\u001b[A\n",
            " 39%|███▉      | 518M/1.30G [00:07<00:08, 98.0MB/s]\u001b[A\n",
            " 40%|███▉      | 528M/1.30G [00:07<00:09, 86.6MB/s]\u001b[A\n",
            " 40%|████      | 538M/1.30G [00:07<00:09, 91.0MB/s]\u001b[A\n",
            " 41%|████      | 547M/1.30G [00:07<00:09, 87.1MB/s]\u001b[A\n",
            " 42%|████▏     | 559M/1.30G [00:07<00:08, 94.1MB/s]\u001b[A\n",
            " 43%|████▎     | 571M/1.30G [00:07<00:07, 102MB/s] \u001b[A\n",
            " 44%|████▎     | 581M/1.30G [00:07<00:07, 98.7MB/s]\u001b[A\n",
            " 45%|████▍     | 593M/1.30G [00:07<00:08, 94.5MB/s]\u001b[A\n",
            " 46%|████▌     | 606M/1.30G [00:08<00:07, 104MB/s] \u001b[A\n",
            " 46%|████▋     | 617M/1.30G [00:08<00:08, 91.5MB/s]\u001b[A\n",
            " 47%|████▋     | 630M/1.30G [00:08<00:07, 99.1MB/s]\u001b[A\n",
            " 48%|████▊     | 643M/1.30G [00:08<00:06, 106MB/s] \u001b[A\n",
            " 49%|████▉     | 654M/1.30G [00:08<00:06, 106MB/s]\u001b[A\n",
            " 50%|█████     | 665M/1.30G [00:08<00:06, 104MB/s]\u001b[A\n",
            " 51%|█████     | 677M/1.30G [00:08<00:06, 110MB/s]\u001b[A\n",
            " 52%|█████▏    | 689M/1.30G [00:08<00:05, 112MB/s]\u001b[A\n",
            " 53%|█████▎    | 700M/1.30G [00:09<00:06, 97.4MB/s]\u001b[A\n",
            " 54%|█████▎    | 713M/1.30G [00:09<00:06, 105MB/s] \u001b[A\n",
            " 55%|█████▍    | 725M/1.30G [00:09<00:05, 110MB/s]\u001b[A\n",
            " 55%|█████▌    | 736M/1.30G [00:09<00:05, 105MB/s]\u001b[A\n",
            " 56%|█████▋    | 748M/1.30G [00:09<00:05, 110MB/s]\u001b[A\n",
            " 57%|█████▋    | 760M/1.30G [00:09<00:05, 115MB/s]\u001b[A\n",
            " 58%|█████▊    | 772M/1.30G [00:09<00:05, 97.9MB/s]\u001b[A\n",
            " 59%|█████▉    | 784M/1.30G [00:09<00:05, 104MB/s] \u001b[A\n",
            " 60%|█████▉    | 795M/1.30G [00:10<00:05, 96.1MB/s]\u001b[A\n",
            " 61%|██████    | 806M/1.30G [00:10<00:05, 100MB/s] \u001b[A\n",
            " 62%|██████▏   | 818M/1.30G [00:10<00:05, 106MB/s]\u001b[A\n",
            " 62%|██████▏   | 829M/1.30G [00:10<00:05, 95.5MB/s]\u001b[A\n",
            " 63%|██████▎   | 841M/1.30G [00:10<00:05, 101MB/s] \u001b[A\n",
            " 64%|██████▍   | 851M/1.30G [00:10<00:05, 92.1MB/s]\u001b[A\n",
            " 65%|██████▍   | 861M/1.30G [00:10<00:05, 85.7MB/s]\u001b[A\n",
            " 65%|██████▌   | 870M/1.30G [00:10<00:05, 87.7MB/s]\u001b[A\n",
            " 66%|██████▌   | 880M/1.30G [00:10<00:05, 90.5MB/s]\u001b[A\n",
            " 67%|██████▋   | 889M/1.30G [00:11<00:05, 86.8MB/s]\u001b[A\n",
            " 68%|██████▊   | 900M/1.30G [00:11<00:04, 93.4MB/s]\u001b[A\n",
            " 69%|██████▊   | 910M/1.30G [00:11<00:04, 88.4MB/s]\u001b[A\n",
            " 69%|██████▉   | 919M/1.30G [00:11<00:04, 86.4MB/s]\u001b[A\n",
            " 70%|██████▉   | 929M/1.30G [00:11<00:04, 91.2MB/s]\u001b[A\n",
            " 71%|███████   | 939M/1.30G [00:11<00:04, 94.4MB/s]\u001b[A\n",
            " 72%|███████▏  | 951M/1.30G [00:11<00:03, 101MB/s] \u001b[A\n",
            " 72%|███████▏  | 961M/1.30G [00:11<00:04, 91.3MB/s]\u001b[A\n",
            " 73%|███████▎  | 973M/1.30G [00:11<00:03, 100MB/s] \u001b[A\n",
            " 74%|███████▍  | 983M/1.30G [00:12<00:03, 101MB/s]\u001b[A\n",
            " 75%|███████▍  | 996M/1.30G [00:12<00:03, 109MB/s]\u001b[A\n",
            " 76%|███████▌  | 0.98G/1.30G [00:12<00:03, 111MB/s]\u001b[A\n",
            " 77%|███████▋  | 1.00G/1.30G [00:12<00:03, 97.7MB/s]\u001b[A\n",
            " 78%|███████▊  | 1.01G/1.30G [00:12<00:02, 104MB/s] \u001b[A\n",
            " 78%|███████▊  | 1.02G/1.30G [00:12<00:02, 101MB/s]\u001b[A\n",
            " 79%|███████▉  | 1.03G/1.30G [00:12<00:02, 103MB/s]\u001b[A\n",
            " 80%|████████  | 1.04G/1.30G [00:12<00:02, 101MB/s]\u001b[A\n",
            " 81%|████████  | 1.05G/1.30G [00:13<00:02, 103MB/s]\u001b[A\n",
            " 82%|████████▏ | 1.06G/1.30G [00:13<00:02, 108MB/s]\u001b[A\n",
            " 83%|████████▎ | 1.07G/1.30G [00:13<00:02, 111MB/s]\u001b[A\n",
            " 84%|████████▍ | 1.09G/1.30G [00:13<00:01, 115MB/s]\u001b[A\n",
            " 85%|████████▍ | 1.10G/1.30G [00:13<00:01, 114MB/s]\u001b[A\n",
            " 86%|████████▌ | 1.11G/1.30G [00:13<00:01, 114MB/s]\u001b[A\n",
            " 86%|████████▋ | 1.12G/1.30G [00:13<00:02, 84.1MB/s]\u001b[A\n",
            " 87%|████████▋ | 1.13G/1.30G [00:13<00:01, 89.7MB/s]\u001b[A\n",
            " 88%|████████▊ | 1.14G/1.30G [00:14<00:01, 85.1MB/s]\u001b[A\n",
            " 89%|████████▊ | 1.15G/1.30G [00:14<00:01, 83.9MB/s]\u001b[A\n",
            " 89%|████████▉ | 1.16G/1.30G [00:14<00:01, 81.5MB/s]\u001b[A\n",
            " 90%|█████████ | 1.17G/1.30G [00:14<00:01, 94.5MB/s]\u001b[A\n",
            " 91%|█████████ | 1.18G/1.30G [00:14<00:01, 89.4MB/s]\u001b[A\n",
            " 92%|█████████▏| 1.19G/1.30G [00:14<00:01, 89.4MB/s]\u001b[A\n",
            " 93%|█████████▎| 1.20G/1.30G [00:14<00:01, 91.7MB/s]\u001b[A\n",
            " 93%|█████████▎| 1.21G/1.30G [00:14<00:00, 99.7MB/s]\u001b[A\n",
            " 94%|█████████▍| 1.22G/1.30G [00:14<00:00, 103MB/s] \u001b[A\n",
            " 95%|█████████▌| 1.24G/1.30G [00:15<00:00, 107MB/s]\u001b[A\n",
            " 96%|█████████▌| 1.25G/1.30G [00:15<00:00, 97.9MB/s]\u001b[A\n",
            " 97%|█████████▋| 1.26G/1.30G [00:15<00:00, 104MB/s] \u001b[A\n",
            " 98%|█████████▊| 1.27G/1.30G [00:15<00:00, 105MB/s]\u001b[A\n",
            " 99%|█████████▊| 1.28G/1.30G [00:15<00:00, 108MB/s]\u001b[A\n",
            "100%|██████████| 1.30G/1.30G [00:15<00:00, 88.9MB/s]\n"
          ]
        }
      ]
    },
    {
      "cell_type": "code",
      "source": [
        "# 1. Create a model\n",
        "model_0_loaded_kaggle = create_model(num_classes=len(class_names), trainable=False)\n",
        "\n",
        "# 2. Compile the model\n",
        "model_0_loaded_kaggle.compile(optimizer=tf_keras.optimizers.Adam(learning_rate=0.001),\n",
        "                loss=tf_keras.losses.CategoricalCrossentropy(from_logits=False),  # use from_logits=False if using an activation function in final layer\n",
        "                metrics=[\"accuracy\"])\n",
        "\n",
        "# Load the weights\n",
        "model_0_loaded_kaggle.load_weights('/content/model_0/model_0_weights_fine_tuened.keras')\n",
        "\n",
        "loaded_model_results = model_0_loaded_kaggle.evaluate(test_ds)"
      ],
      "metadata": {
        "colab": {
          "base_uri": "https://localhost:8080/"
        },
        "id": "-N468-hYKRkU",
        "outputId": "b8570f18-f51f-47e9-e486-6346c4272e0b"
      },
      "execution_count": 17,
      "outputs": [
        {
          "output_type": "stream",
          "name": "stdout",
          "text": [
            "25/25 [==============================] - 12s 228ms/step - loss: 0.3366 - accuracy: 0.8692\n"
          ]
        }
      ]
    },
    {
      "cell_type": "code",
      "source": [],
      "metadata": {
        "id": "ijPw4DG6KX5v"
      },
      "execution_count": null,
      "outputs": []
    }
  ]
}
